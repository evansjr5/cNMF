{
 "cells": [
  {
   "cell_type": "markdown",
   "id": "7169d820-55fd-4a05-9002-d7dec990b1f0",
   "metadata": {},
   "source": [
    "## **<span style=\"color:\">File: downsample_methods.ipynb</span>**\n",
    "Description: This file starts the down sampling process for preparation of cNMF <br>\n",
    "This is continued in the density_downsample.ipynb"
   ]
  },
  {
   "cell_type": "markdown",
   "id": "f9e6fd5f-4fc3-4cea-a13d-c1f0765d05ab",
   "metadata": {},
   "source": [
    "### **Imports**"
   ]
  },
  {
   "cell_type": "code",
   "execution_count": 1,
   "id": "e61d319c-94d5-4e86-ad62-35e511a5887e",
   "metadata": {},
   "outputs": [],
   "source": [
    "import scanpy as sc\n",
    "# some stuff to make this notebook work better with Scanpy\n",
    "import warnings\n",
    "warnings.simplefilter(action='ignore', category=FutureWarning)\n",
    "import matplotlib.pyplot as plt\n",
    "import matplotlib as mpl\n",
    "import pandas as pd\n",
    "import numpy as np"
   ]
  },
  {
   "cell_type": "markdown",
   "id": "5dfd9bb3-5850-4d8d-a171-f70accad81a1",
   "metadata": {},
   "source": [
    " ## **Immune Exclusion Data** ##\n",
    " - Import data\n",
    " - Subsample the data for easier NMF factorization"
   ]
  },
  {
   "cell_type": "code",
   "execution_count": 2,
   "id": "843fac61-8464-4dd7-9d84-12642576ee1b",
   "metadata": {},
   "outputs": [
    {
     "name": "stdout",
     "output_type": "stream",
     "text": [
      "AnnData object with n_obs × n_vars = 130681 × 15785\n",
      "    obs: 'orig.ident', 'nCount_RNA', 'nFeature_RNA', 'SampleId', 'percent.mt', 'RNA_snn_res.0.5', 'seurat_clusters', 'celltype_each', 'celltype_annotation', 'exp_num', 'active_ident', 'Cell_Type', 'n_genes_by_counts', 'log1p_n_genes_by_counts', 'total_counts', 'log1p_total_counts', 'pct_counts_in_top_50_genes', 'pct_counts_in_top_100_genes', 'pct_counts_in_top_200_genes', 'pct_counts_in_top_500_genes', 'IES', 'CD8T_core9', 'CD8T_cytokine', 'Major_cell_type', 'leiden', 'session_id', 'IES_status', 'scIES_status', 'IES_norm', 'Tumor_Type', 'Vantage_ID'\n",
      "    var: 'n_cells_by_counts', 'mean_counts', 'log1p_mean_counts', 'pct_dropout_by_counts', 'total_counts', 'log1p_total_counts', 'n_counts', 'mean', 'std'\n",
      "    uns: 'Cell_Type_colors', 'Tumor_Type_colors', 'exp_num_colors', 'leiden_dge', 'neighbors', 'pca', 'umap'\n",
      "    obsm: 'X_pca', 'X_umap'\n",
      "    layers: 'arcsin'\n",
      "    obsp: 'connectivities', 'distances'\n"
     ]
    }
   ],
   "source": [
    "imm_excl_adata = sc.read_h5ad(\"/home/james/data/immune_exclusion_data/outer_combined_all4_dat.h5ad\")\n",
    "print(imm_excl_adata)"
   ]
  },
  {
   "cell_type": "code",
   "execution_count": 5,
   "id": "f38cb871-f07b-4c6c-9f65-ddba21bdf31c",
   "metadata": {},
   "outputs": [
    {
     "data": {
      "text/plain": [
       "10096_s1       20871\n",
       "10180_02_s3    13742\n",
       "10180_01_s1    13425\n",
       "10096_s4       12418\n",
       "10096_s3       10322\n",
       "10284_s3        8892\n",
       "10180_02_s1     8038\n",
       "10180_02_s4     7859\n",
       "10284_s4        7542\n",
       "10180_01_s4     6922\n",
       "9142_s2         5569\n",
       "10284_s2        4343\n",
       "10180_02_s2     3248\n",
       "9142_s1         1921\n",
       "10180_01_s2     1644\n",
       "10284_s1        1618\n",
       "10180_01_s3     1476\n",
       "10096_s2         831\n",
       "Name: SampleId, dtype: int64"
      ]
     },
     "execution_count": 5,
     "metadata": {},
     "output_type": "execute_result"
    }
   ],
   "source": [
    "## Checking out different obs\n",
    "imm_excl_adata.obs['SampleId'].value_counts()"
   ]
  },
  {
   "cell_type": "markdown",
   "id": "c79f6350-ae51-497d-a1af-1d005e48ebe2",
   "metadata": {},
   "source": [
    "## **<span style=\"color:darkred\">Immune Exclusion Data: downsampled proportionally using scanpy</span>**\n",
    "**Description:** <br> \n",
    "These cells perform and evaluate the downsampling of data <br>\n",
    "using proportional methods by cell type."
   ]
  },
  {
   "cell_type": "code",
   "execution_count": 13,
   "id": "a0739c65-0722-427b-a056-511709c4e26b",
   "metadata": {},
   "outputs": [],
   "source": [
    "down_sample_adata = sc.pp.subsample(\n",
    "    data = imm_excl_adata,\n",
    "    fraction = 0.2,\n",
    "    copy = True\n",
    "    )\n",
    "\n",
    "#down_sample_adata.write_h5ad(\"/home/james/data/immune_exclusion_data/ds_outer_combined_all4_dat.h5ad\")"
   ]
  },
  {
   "cell_type": "code",
   "execution_count": 14,
   "id": "7a8190fd-9c72-4812-be13-42db9f1c0a70",
   "metadata": {},
   "outputs": [
    {
     "name": "stdout",
     "output_type": "stream",
     "text": [
      "AnnData object with n_obs × n_vars = 26136 × 15785\n",
      "    obs: 'orig.ident', 'nCount_RNA', 'nFeature_RNA', 'SampleId', 'percent.mt', 'RNA_snn_res.0.5', 'seurat_clusters', 'celltype_each', 'celltype_annotation', 'exp_num', 'active_ident', 'Cell_Type', 'n_genes_by_counts', 'log1p_n_genes_by_counts', 'total_counts', 'log1p_total_counts', 'pct_counts_in_top_50_genes', 'pct_counts_in_top_100_genes', 'pct_counts_in_top_200_genes', 'pct_counts_in_top_500_genes', 'IES', 'CD8T_core9', 'CD8T_cytokine', 'Major_cell_type', 'leiden', 'session_id', 'IES_status', 'scIES_status', 'IES_norm', 'Tumor_Type', 'Vantage_ID'\n",
      "    var: 'n_cells_by_counts', 'mean_counts', 'log1p_mean_counts', 'pct_dropout_by_counts', 'total_counts', 'log1p_total_counts', 'n_counts', 'mean', 'std'\n",
      "    uns: 'Cell_Type_colors', 'Tumor_Type_colors', 'exp_num_colors', 'leiden_dge', 'neighbors', 'pca', 'umap'\n",
      "    obsm: 'X_pca', 'X_umap'\n",
      "    layers: 'arcsin'\n",
      "    obsp: 'connectivities', 'distances'\n"
     ]
    }
   ],
   "source": [
    "print(down_sample_adata)"
   ]
  },
  {
   "cell_type": "code",
   "execution_count": 15,
   "id": "d62ccf1c-05ec-4278-b7f5-f86e05472e12",
   "metadata": {},
   "outputs": [
    {
     "data": {
      "text/plain": [
       "Cholangiocytes                  4308\n",
       "Fibroblasts                     4220\n",
       "Macrophages                     3654\n",
       "T cells                         2985\n",
       "Plasma cells                    2806\n",
       "B cells                         1350\n",
       "Basal cells                     1315\n",
       "Endothelial cells               1218\n",
       "Goblet cells                    1174\n",
       "Smooth muscle cells              641\n",
       "Crypt cells                      492\n",
       "NK cells                         373\n",
       "Neutrophils                      361\n",
       "T memory cells                   270\n",
       "Mast cells                       245\n",
       "Ductal cells                     159\n",
       "Enterocytes                      117\n",
       "B cells memory                   108\n",
       "Alveolar macrophages              99\n",
       "Adipocytes                        59\n",
       "Dendritic cells                   53\n",
       "Plasmacytoid dendritic cells      40\n",
       "Schwann cells                     29\n",
       "Enteric glia cells                23\n",
       "Epithelial cells                  20\n",
       "Pericytes                         10\n",
       "Enteric neurons                    7\n",
       "Name: Cell_Type, dtype: int64"
      ]
     },
     "execution_count": 15,
     "metadata": {},
     "output_type": "execute_result"
    }
   ],
   "source": [
    "down_sample_adata.obs[\"Cell_Type\"].value_counts()"
   ]
  },
  {
   "cell_type": "markdown",
   "id": "a517153b-c5df-4be4-96a5-9465d89eb5e2",
   "metadata": {},
   "source": [
    "## **<span style=\"color:darkred\">Proportional Down Sampling and Filter for low obs</span>**\n",
    "**Description:** <br>\n",
    "Using the down sample data from above I applied a cutoff to remove noisy cell types that have observations below 100."
   ]
  },
  {
   "cell_type": "code",
   "execution_count": 22,
   "id": "9ef05b9a-ff7a-40dd-8ae3-211d8b6e89db",
   "metadata": {},
   "outputs": [
    {
     "name": "stdout",
     "output_type": "stream",
     "text": [
      "Cholangiocytes         4308\n",
      "Fibroblasts            4220\n",
      "Macrophages            3654\n",
      "T cells                2985\n",
      "Plasma cells           2806\n",
      "B cells                1350\n",
      "Basal cells            1315\n",
      "Endothelial cells      1218\n",
      "Goblet cells           1174\n",
      "Smooth muscle cells     641\n",
      "Crypt cells             492\n",
      "NK cells                373\n",
      "Neutrophils             361\n",
      "T memory cells          270\n",
      "Mast cells              245\n",
      "Ductal cells            159\n",
      "Enterocytes             117\n",
      "B cells memory          108\n",
      "Name: Cell_Type, dtype: int64\n"
     ]
    }
   ],
   "source": [
    "# Get cell counts from dwon sampled data\n",
    "cell_type_counts = down_sample_adata.obs['Cell_Type'].value_counts()\n",
    "\n",
    "# Filter out lowly observed cell types\n",
    "cell_types_to_keep = cell_type_counts[cell_type_counts >= 100].index\n",
    "\n",
    "# Make a new adata object with this filtered cell type\n",
    "adata_above_100 = down_sample_adata[down_sample_adata.obs['Cell_Type'].isin(cell_types_to_keep)].copy()\n",
    "\n",
    "# Write data to new h5ad file\n",
    "#adata_above_100.write_h5ad('/home/james/data/immune_exclusion_data/above100_ds_outer_combined_all4_dat.h5ad')\n",
    "\n",
    "print(adata_above_100.obs['Cell_Type'].value_counts())"
   ]
  },
  {
   "cell_type": "code",
   "execution_count": 23,
   "id": "2ed75294-4e6c-4287-8077-3de4b29bb600",
   "metadata": {},
   "outputs": [
    {
     "name": "stdout",
     "output_type": "stream",
     "text": [
      "AnnData object with n_obs × n_vars = 25796 × 15785\n",
      "    obs: 'orig.ident', 'nCount_RNA', 'nFeature_RNA', 'SampleId', 'percent.mt', 'RNA_snn_res.0.5', 'seurat_clusters', 'celltype_each', 'celltype_annotation', 'exp_num', 'active_ident', 'Cell_Type', 'n_genes_by_counts', 'log1p_n_genes_by_counts', 'total_counts', 'log1p_total_counts', 'pct_counts_in_top_50_genes', 'pct_counts_in_top_100_genes', 'pct_counts_in_top_200_genes', 'pct_counts_in_top_500_genes', 'IES', 'CD8T_core9', 'CD8T_cytokine', 'Major_cell_type', 'leiden', 'session_id', 'IES_status', 'scIES_status', 'IES_norm', 'Tumor_Type', 'Vantage_ID'\n",
      "    var: 'n_cells_by_counts', 'mean_counts', 'log1p_mean_counts', 'pct_dropout_by_counts', 'total_counts', 'log1p_total_counts', 'n_counts', 'mean', 'std'\n",
      "    uns: 'Cell_Type_colors', 'Tumor_Type_colors', 'exp_num_colors', 'leiden_dge', 'neighbors', 'pca', 'umap'\n",
      "    obsm: 'X_pca', 'X_umap'\n",
      "    layers: 'arcsin'\n",
      "    obsp: 'connectivities', 'distances'\n"
     ]
    }
   ],
   "source": [
    "print(adata_above_100)"
   ]
  },
  {
   "cell_type": "markdown",
   "id": "1f338b0b-7062-4a8a-96ad-34b682581231",
   "metadata": {},
   "source": [
    "## **<span style=\"color:darkred\">Count Based Down Sampling</span>**\n",
    "**Description:** <br>\n",
    "Provide a cutoff number and any cell type with greater than those obsevations will be randomly <br>\n",
    "sampled and aby cell types with less than the number of cutoff observations will be kept in whole."
   ]
  },
  {
   "cell_type": "code",
   "execution_count": 3,
   "id": "4aea424b-e0b9-469c-9980-5b97235cd4a8",
   "metadata": {},
   "outputs": [],
   "source": [
    "def count_subsample(adata, group_key, cutoff = 2000):\n",
    "    \"\"\"\n",
    "    Performs proportional downsampling of an AnnData object.\n",
    "\n",
    "    Args:\n",
    "        adata: The AnnData object.\n",
    "        group_key: The key in `adata.obs` specifying the groups.\n",
    "\n",
    "    Returns:\n",
    "        A new AnnData object with the subsampled cells. Returns None if the group_key is invalid.\n",
    "    \"\"\"\n",
    "    if group_key not in adata.obs.columns:\n",
    "        print(f\"Error: group_key '{group_key}' not found in adata.obs\")\n",
    "        return None\n",
    "\n",
    "    groups = adata.obs[group_key].unique()\n",
    "    subsampled_indices = []\n",
    "\n",
    "    for group in groups:\n",
    "        group_cells = adata.obs[adata.obs[group_key] == group].index\n",
    "        n_cells = len(group_cells)\n",
    "\n",
    "        if n_cells > cutoff:\n",
    "            sampled_indices = np.random.choice(group_cells, size=cutoff, replace=False)\n",
    "        else:\n",
    "            sampled_indices = group_cells\n",
    "\n",
    "        subsampled_indices.extend(sampled_indices)\n",
    "\n",
    "    return adata[subsampled_indices, :].copy()"
   ]
  },
  {
   "cell_type": "code",
   "execution_count": 4,
   "id": "09f9475e-c19f-44fc-8a2d-1d5491681e6a",
   "metadata": {},
   "outputs": [],
   "source": [
    "subsample_adata = count_subsample(\n",
    "    adata = imm_excl_adata,\n",
    "    group_key = 'Cell_Type',\n",
    "    cutoff = 2000)\n",
    "\n",
    "# Write down sampled data to new h5ad file\n",
    "#subsample_adata.write_h5ad('/home/james/data/immune_exclusion_data/ds_2000_outer_combined_all4_dat.h5ad')"
   ]
  },
  {
   "cell_type": "code",
   "execution_count": 5,
   "id": "02249f2c-4ff1-4922-a9e7-543daac95410",
   "metadata": {},
   "outputs": [
    {
     "name": "stdout",
     "output_type": "stream",
     "text": [
      "AnnData object with n_obs × n_vars = 31791 × 15785\n",
      "    obs: 'orig.ident', 'nCount_RNA', 'nFeature_RNA', 'SampleId', 'percent.mt', 'RNA_snn_res.0.5', 'seurat_clusters', 'celltype_each', 'celltype_annotation', 'exp_num', 'active_ident', 'Cell_Type', 'n_genes_by_counts', 'log1p_n_genes_by_counts', 'total_counts', 'log1p_total_counts', 'pct_counts_in_top_50_genes', 'pct_counts_in_top_100_genes', 'pct_counts_in_top_200_genes', 'pct_counts_in_top_500_genes', 'IES', 'CD8T_core9', 'CD8T_cytokine', 'Major_cell_type', 'leiden', 'session_id', 'IES_status', 'scIES_status', 'IES_norm', 'Tumor_Type', 'Vantage_ID'\n",
      "    var: 'n_cells_by_counts', 'mean_counts', 'log1p_mean_counts', 'pct_dropout_by_counts', 'total_counts', 'log1p_total_counts', 'n_counts', 'mean', 'std'\n",
      "    uns: 'Cell_Type_colors', 'Tumor_Type_colors', 'exp_num_colors', 'leiden_dge', 'neighbors', 'pca', 'umap'\n",
      "    obsm: 'X_pca', 'X_umap'\n",
      "    layers: 'arcsin'\n",
      "    obsp: 'connectivities', 'distances'\n"
     ]
    }
   ],
   "source": [
    "print(subsample_adata)"
   ]
  },
  {
   "cell_type": "code",
   "execution_count": 6,
   "id": "8f550ac4-3773-4779-b919-e7323018ae7c",
   "metadata": {},
   "outputs": [
    {
     "name": "stdout",
     "output_type": "stream",
     "text": [
      "Endothelial cells               2000\n",
      "Plasma cells                    2000\n",
      "B cells                         2000\n",
      "Macrophages                     2000\n",
      "Basal cells                     2000\n",
      "Cholangiocytes                  2000\n",
      "Crypt cells                     2000\n",
      "T cells                         2000\n",
      "Goblet cells                    2000\n",
      "Fibroblasts                     2000\n",
      "Smooth muscle cells             2000\n",
      "NK cells                        1862\n",
      "Neutrophils                     1757\n",
      "T memory cells                  1413\n",
      "Mast cells                      1324\n",
      "Ductal cells                     749\n",
      "Enterocytes                      556\n",
      "B cells memory                   501\n",
      "Alveolar macrophages             439\n",
      "Adipocytes                       298\n",
      "Dendritic cells                  280\n",
      "Plasmacytoid dendritic cells     153\n",
      "Epithelial cells                 132\n",
      "Schwann cells                    129\n",
      "Enteric glia cells                97\n",
      "Pericytes                         56\n",
      "Enteric neurons                   45\n",
      "Name: Cell_Type, dtype: int64\n"
     ]
    }
   ],
   "source": [
    "print(subsample_adata.obs['Cell_Type'].value_counts())"
   ]
  }
 ],
 "metadata": {
  "kernelspec": {
   "display_name": "Python 3 (ipykernel)",
   "language": "python",
   "name": "python3"
  },
  "language_info": {
   "codemirror_mode": {
    "name": "ipython",
    "version": 3
   },
   "file_extension": ".py",
   "mimetype": "text/x-python",
   "name": "python",
   "nbconvert_exporter": "python",
   "pygments_lexer": "ipython3",
   "version": "3.8.10"
  }
 },
 "nbformat": 4,
 "nbformat_minor": 5
}
