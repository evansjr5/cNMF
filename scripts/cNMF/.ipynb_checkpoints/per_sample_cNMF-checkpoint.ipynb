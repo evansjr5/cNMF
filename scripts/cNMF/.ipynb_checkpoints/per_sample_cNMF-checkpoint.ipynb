{
 "cells": [
  {
   "cell_type": "markdown",
   "id": "cfaf17f9-8a2b-4524-bd38-8a7825f91adb",
   "metadata": {},
   "source": [
    "## **File: per_sample_cNMF.ipynb**\n",
    "---\n",
    "Description: Seperating each Sample ID in the original h5ad found here: <br>\n",
    "**<span style=\"color:magenta\">/home/james/data/immune_exclusion_data/outer_combined_all4_dat.h5ad</span>** <br>\n",
    "This is then used in the automated cNMF script: sample_cnmf.sh"
   ]
  },
  {
   "cell_type": "markdown",
   "id": "694ee022-a3bf-44f7-8a7b-dc97ca6e2012",
   "metadata": {},
   "source": [
    "#### **Imports and Directories**"
   ]
  },
  {
   "cell_type": "code",
   "execution_count": 1,
   "id": "b92d4165-b401-4dac-bec8-b7cb9ee50971",
   "metadata": {},
   "outputs": [],
   "source": [
    "import pandas as pd\n",
    "import scanpy as sc\n",
    "import MILWRM.ST as st\n",
    "import sys; sys.path.append(\"/home/james/git/spatial_CRC_atlas/resources/ST/\")\n",
    "from visium_utils import deconvolve_cnmf\n",
    "from MILWRM.ST import assemble_pita\n",
    "\n",
    "# some stuff to make this notebook work better with Scanpy\n",
    "import warnings\n",
    "warnings.simplefilter(action='ignore', category=FutureWarning)"
   ]
  },
  {
   "cell_type": "code",
   "execution_count": 2,
   "id": "fba7568a-e119-48a8-8f4e-5aa4c1d0dce6",
   "metadata": {},
   "outputs": [],
   "source": [
    "# make output directory\n",
    "import os\n",
    "if not os.path.exists(\n",
    "    \"/home/james/data/immune_exclusion_data/seperate_sample_data\"\n",
    "    ):\n",
    "        os.mkdir(\n",
    "            \"/home/james/data/immune_exclusion_data/seperate_sample_data\"\n",
    "            )"
   ]
  },
  {
   "cell_type": "markdown",
   "id": "a2999fc8-3c44-426a-aba9-c584c408d571",
   "metadata": {},
   "source": [
    "### **Import data**\n",
    "---\n",
    "**<span style=\"color:magenta\">/home/james/data/immune_exclusion_data/outer_combined_all4_dat.h5ad</span>** <br>"
   ]
  },
  {
   "cell_type": "code",
   "execution_count": 3,
   "id": "2728fe81-3f04-4a69-94ab-044dc1828223",
   "metadata": {},
   "outputs": [],
   "source": [
    "# Data\n",
    "immune_adata = sc.read_h5ad('/home/james/data/immune_exclusion_data/outer_combined_all4_dat.h5ad')"
   ]
  },
  {
   "cell_type": "markdown",
   "id": "992a03af-4b11-4073-b8ad-4fe36d932020",
   "metadata": {},
   "source": [
    "### **Data seperation**\n",
    "---\n",
    "**Description:** Using sample ID to create sub samples of each ID"
   ]
  },
  {
   "cell_type": "code",
   "execution_count": 37,
   "id": "96e2b1a2-cc77-41a9-bd51-ce7b28d749a0",
   "metadata": {},
   "outputs": [
    {
     "name": "stdout",
     "output_type": "stream",
     "text": [
      "Sample: 9142_s2 \n",
      " Shape: (5569, 15432) \n",
      " Number of Cell Types: 13\n",
      "Sample: 9142_s1 \n",
      " Shape: (1921, 13896) \n",
      " Number of Cell Types: 6\n",
      "Sample: 10096_s1 \n",
      " Shape: (20871, 15725) \n",
      " Number of Cell Types: 12\n",
      "Sample: 10096_s2 \n",
      " Shape: (831, 13337) \n",
      " Number of Cell Types: 6\n",
      "Sample: 10096_s3 \n",
      " Shape: (10322, 15655) \n",
      " Number of Cell Types: 10\n",
      "Sample: 10096_s4 \n",
      " Shape: (12418, 15421) \n",
      " Number of Cell Types: 8\n",
      "Sample: 10180_01_s1 \n",
      " Shape: (13425, 15143) \n",
      " Number of Cell Types: 11\n",
      "Sample: 10180_01_s2 \n",
      " Shape: (1644, 13394) \n",
      " Number of Cell Types: 5\n",
      "Sample: 10180_01_s3 \n",
      " Shape: (1476, 14100) \n",
      " Number of Cell Types: 9\n",
      "Sample: 10180_01_s4 \n",
      " Shape: (6922, 15275) \n",
      " Number of Cell Types: 12\n",
      "Sample: 10180_02_s1 \n",
      " Shape: (8038, 15091) \n",
      " Number of Cell Types: 10\n",
      "Sample: 10180_02_s2 \n",
      " Shape: (3248, 14188) \n",
      " Number of Cell Types: 9\n",
      "Sample: 10180_02_s3 \n",
      " Shape: (13742, 15594) \n",
      " Number of Cell Types: 12\n",
      "Sample: 10180_02_s4 \n",
      " Shape: (7859, 15325) \n",
      " Number of Cell Types: 12\n",
      "Sample: 10284_s1 \n",
      " Shape: (1618, 12764) \n",
      " Number of Cell Types: 8\n",
      "Sample: 10284_s2 \n",
      " Shape: (4343, 14002) \n",
      " Number of Cell Types: 7\n",
      "Sample: 10284_s3 \n",
      " Shape: (8892, 14682) \n",
      " Number of Cell Types: 12\n",
      "Sample: 10284_s4 \n",
      " Shape: (7542, 14559) \n",
      " Number of Cell Types: 11\n"
     ]
    }
   ],
   "source": [
    "# Unique Sample IDs\n",
    "samples = immune_adata.obs['SampleId'].unique()\n",
    "\n",
    "for i in samples:\n",
    "    # create sub anndata objects containing one sample\n",
    "    sub_data = immune_adata[immune_adata.obs['SampleId'] == i].copy()\n",
    "    n_cells = len(sub_data.obs['Cell_Type'].unique())\n",
    "    # filter genes with 0 counts\n",
    "    sc.pp.filter_genes(sub_data, min_cells = 1)\n",
    "    # filter cells with 0 counts\n",
    "    sc.pp.filter_cells(sub_data, min_counts = 1)\n",
    "    # write anndata objects to new directory for each sample\n",
    "    #sub_data.write_h5ad('/home/james/data/immune_exclusion_data/seperate_sample_data/sep_{}_sample.h5ad'.format(i))\n",
    "    # print the stucture of each subsample after filter\n",
    "    print(f\"Sample: {i} \\n Shape: {sub_data.shape} \\n Number of Cell Types: {n_cells}\")"
   ]
  }
 ],
 "metadata": {
  "kernelspec": {
   "display_name": "Python 3 (ipykernel)",
   "language": "python",
   "name": "python3"
  },
  "language_info": {
   "codemirror_mode": {
    "name": "ipython",
    "version": 3
   },
   "file_extension": ".py",
   "mimetype": "text/x-python",
   "name": "python",
   "nbconvert_exporter": "python",
   "pygments_lexer": "ipython3",
   "version": "3.8.10"
  }
 },
 "nbformat": 4,
 "nbformat_minor": 5
}
