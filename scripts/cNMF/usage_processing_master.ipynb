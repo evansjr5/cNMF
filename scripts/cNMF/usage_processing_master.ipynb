{
 "cells": [
  {
   "cell_type": "markdown",
   "id": "c55b7b1f-bcad-492c-8662-870ef9813b60",
   "metadata": {},
   "source": [
    "## **File: usage_processing_master.ipynb**\n",
    "Description: This file uses functions from <br>\n",
    "cnmf_plotting_utils to create plots saved for <br>\n",
    "deciphering the usages made by cNMF."
   ]
  },
  {
   "cell_type": "markdown",
   "id": "298eb1c8-0943-4c32-aca1-66090401419a",
   "metadata": {},
   "source": [
    "### **Imports**"
   ]
  },
  {
   "cell_type": "code",
   "execution_count": 1,
   "id": "74f9fa82-2696-4b60-a870-85493f546d21",
   "metadata": {},
   "outputs": [],
   "source": [
    "import cnmf_plotting_utils\n",
    "import scanpy as sc\n",
    "import os\n",
    "import glob"
   ]
  },
  {
   "cell_type": "markdown",
   "id": "36180912-dbc8-4003-ba98-5ec4e5b49847",
   "metadata": {},
   "source": [
    "## **<span style=\"color:darkred\">Immune Exclusion Data: downsampled proportionally</span>**\n",
    "**Description:** <br>\n",
    "These blocks of code apply the functions descibed above to the cNMF outpout <br> \n",
    "produced with this file ds_immun_excl_nmf_k25_dt0_05.h5ad"
   ]
  },
  {
   "cell_type": "markdown",
   "id": "78291bdd-91e9-48dc-92b8-569db96c0f93",
   "metadata": {},
   "source": [
    "#### **Data Input after cNMF**"
   ]
  },
  {
   "cell_type": "code",
   "execution_count": 3,
   "id": "5632a50d-5830-42cd-beb9-2cfd5156f9f6",
   "metadata": {},
   "outputs": [],
   "source": [
    "immu_excl_nmf_adata = immu_excl_nmf_adata = sc.read_h5ad(\n",
    "    \"/home/james/data/cNMF_out/ds_immun_excl_nmf/ds_immun_excl_nmf_k25_dt0_05.h5ad\"\n",
    "    )"
   ]
  },
  {
   "cell_type": "code",
   "execution_count": 4,
   "id": "4c3eb397-eea1-4a5b-b73e-696939e67f86",
   "metadata": {},
   "outputs": [],
   "source": [
    "# Output directory with prefix of output files\n",
    "immu_excl_out_dir = '/home/james/data/cNMF_out/ds_immun_excl_nmf/ds_immun_excl_nmf_k25'"
   ]
  },
  {
   "cell_type": "markdown",
   "id": "e57087f6-ccc6-40f3-8e4b-8e7ca8bbe7a1",
   "metadata": {},
   "source": [
    "#### **Plot Usage Umap**"
   ]
  },
  {
   "cell_type": "code",
   "execution_count": 5,
   "id": "ff956cfc-daf2-4076-a1f4-767ea869a6da",
   "metadata": {},
   "outputs": [],
   "source": [
    "# produces umaps of each usage for renaming purposes\n",
    "cnmf_plotting_utils.plot_usages_umap(\n",
    "    immu_excl_nmf_adata, \n",
    "    output_prefix = immu_excl_out_dir,\n",
    "    usages=25,\n",
    "    dpi = 600 \n",
    "    )"
   ]
  },
  {
   "cell_type": "markdown",
   "id": "6a7cf686-490e-4f2b-abf4-c522a63f0796",
   "metadata": {},
   "source": [
    "#### **Plot Individual Cell Type Umaps**"
   ]
  },
  {
   "cell_type": "code",
   "execution_count": 6,
   "id": "0f9e104f-1733-4b58-a333-bb0e2a6b560b",
   "metadata": {},
   "outputs": [],
   "source": [
    "# produces umpas for each cell tyoe for renaming purposes\n",
    "cnmf_plotting_utils.plot_celltypes_umap(\n",
    "    immu_excl_nmf_adata,\n",
    "    ncols=6,\n",
    "    output_prefix = immu_excl_out_dir,\n",
    "    figsize=(30, 20),\n",
    "    point_size=0.5,\n",
    "    dpi = 600)"
   ]
  },
  {
   "cell_type": "markdown",
   "id": "348dc09b-e1f3-4d9f-bb89-6adc6bd67e30",
   "metadata": {},
   "source": [
    "#### **Defining Usage Cell Types**"
   ]
  },
  {
   "cell_type": "code",
   "execution_count": 38,
   "id": "b7b93d61-5300-4576-9ba4-710fea3f5b41",
   "metadata": {},
   "outputs": [],
   "source": [
    "immu_excl_rename_dict = {\n",
    "    \"usage_1\":\"Basal_cells\",\n",
    "    \"usage_2\":\"T_cells_&_T_memory\",\n",
    "    \"usage_3\":\"Fibroblast_1_Top\",\n",
    "    \"usage_4\":\"Adipocytes\",\n",
    "    \"usage_5\":\"Endothelial_cells_1\",\n",
    "    \"usage_6\":\"Cholangiocytes_1_&_Goblet\",\n",
    "    \"usage_7\":\"Plasma_cells\",\n",
    "    \"usage_8\":\"Macrophages_1_right\",\n",
    "    \"usage_9\":\"Mast_cells\",\n",
    "    \"usage_10\":\"Cholangiocytes_2\",\n",
    "    \"usage_11\":\"TMCT\", ## TMCT = TOO MANY CELL TYPES\n",
    "    \"usage_12\":\"Smooth_Muscle_Cells_1\",\n",
    "    \"usage_13\":\"TMCT\",\n",
    "    \"usage_14\":\"Smooth_Muscle_Cells_2\",\n",
    "    \"usage_15\":\"Not_Specific\",\n",
    "    \"usage_16\":\"Fibroblast_2\",\n",
    "    \"usage_17\":\"Neutrophils\",\n",
    "    \"usage_18\":\"Macropages_2\",\n",
    "    \"usage_19\":\"T_&_NK_cells\",\n",
    "    \"usage_20\":\"Fibroblast_3\",\n",
    "    \"usage_21\":\"B_cell\",\n",
    "    \"usage_22\":\"Goblet_cells\",\n",
    "    \"usage_23\":\"Endothelial_cells_2\",\n",
    "    \"usage_24\":\"Macrophages_3\",\n",
    "    \"usage_25\":\"Fibroblast_4\",\n",
    "    }"
   ]
  },
  {
   "cell_type": "markdown",
   "id": "725c591a-121c-44f8-a4f2-633b17bf010a",
   "metadata": {},
   "source": [
    "#### **Replot Usages w/ Cell Type Label**"
   ]
  },
  {
   "cell_type": "code",
   "execution_count": 39,
   "id": "87b477c5-8ec4-4958-aedf-1bf6ee1ad545",
   "metadata": {},
   "outputs": [],
   "source": [
    "cnmf_plotting_utils.plot_usages_umap(\n",
    "    immu_excl_nmf_adata,\n",
    "    output_prefix = immu_excl_out_dir,\n",
    "    usages=25,\n",
    "    rename_dict = immu_excl_rename_dict\n",
    "    )"
   ]
  },
  {
   "cell_type": "markdown",
   "id": "681e2476-cd2d-473e-9ee8-163f9b0ef4a8",
   "metadata": {},
   "source": [
    "#### **Plot Spectra Scores**"
   ]
  },
  {
   "cell_type": "code",
   "execution_count": 40,
   "id": "15e5e955-0c32-406e-866f-7713295bab75",
   "metadata": {},
   "outputs": [],
   "source": [
    "cnmf_plotting_utils.plot_spectra_scores(\n",
    "    spectra_file = \"/home/james/data/cNMF_out/ds_immun_excl_nmf/ds_immun_excl_nmf.gene_spectra_score.k_25.dt_0_05.txt\",\n",
    "    output_prefix = immu_excl_out_dir,\n",
    "    fig_rows = 5,\n",
    "    fig_cols = 5,\n",
    "    rename_dict = immu_excl_rename_dict\n",
    "    )"
   ]
  },
  {
   "cell_type": "markdown",
   "id": "b776900f-bfcf-4dad-9e13-4b87ebc042cc",
   "metadata": {
    "jp-MarkdownHeadingCollapsed": true
   },
   "source": [
    "## **<span style=\"color:darkred\">VUMC Data: run by James in cNMF</span>**\n",
    "**Description:** <br>\n",
    "This was run as close to cody's analysis as possible. <br>\n",
    "Working with the VUMC_combined.h5ad file located in: <br>\n",
    "/mnt/md0/cody/scRNA_anndatas/VUMC_COMBINED.h5ad"
   ]
  },
  {
   "cell_type": "markdown",
   "id": "11180608-f634-4bc2-82ba-331ee01d0078",
   "metadata": {},
   "source": [
    "#### **Import Data and set output directory that contains the prefix for file names** "
   ]
  },
  {
   "cell_type": "code",
   "execution_count": 2,
   "id": "dff9b77d-2c40-4aca-a6cb-ed670a32ebaa",
   "metadata": {},
   "outputs": [],
   "source": [
    "vumc_adata = sc.read_h5ad(\n",
    "    '/home/james/data/cNMF_out/VUMC_test_cNMF/VUMC_test_cNMF_k30_dt0_05.h5ad'\n",
    "    )\n",
    "\n",
    "vumc_out_dir = \"/home/james/data/cNMF_out/VUMC_test_cNMF/VUMC_test_cNMF_k30\""
   ]
  },
  {
   "cell_type": "markdown",
   "id": "4e196716-5ec3-4df5-8622-5ef7f2d60205",
   "metadata": {},
   "source": [
    "#### **Plot each usage map**"
   ]
  },
  {
   "cell_type": "code",
   "execution_count": 7,
   "id": "cfae18c0-5f3f-4453-bb14-63dcc3bad4b0",
   "metadata": {},
   "outputs": [],
   "source": [
    "cnmf_plotting_utils.plot_usages_umap(\n",
    "    vumc_adata,\n",
    "    output_prefix = vumc_out_dir,\n",
    "    usages = 30\n",
    "    )"
   ]
  },
  {
   "cell_type": "markdown",
   "id": "3a02de5a-25f5-4e0d-a9ce-c23a14444d7e",
   "metadata": {},
   "source": [
    "#### **Plot each cell type**"
   ]
  },
  {
   "cell_type": "code",
   "execution_count": 8,
   "id": "8481f65e-ae2b-4309-9385-c3f6399ab3d1",
   "metadata": {},
   "outputs": [],
   "source": [
    "cnmf_plotting_utils.plot_celltypes_umap(\n",
    "    vumc_adata,\n",
    "    ncols = 6,\n",
    "    output_prefix = vumc_out_dir,\n",
    "    figsize = (20, 10),\n",
    "    point_size = 0.5,\n",
    "    dpi = 600)"
   ]
  },
  {
   "cell_type": "markdown",
   "id": "c1ffa20b-d7ed-47a1-93b8-2fe47135e755",
   "metadata": {},
   "source": [
    "#### **Defining Usage Cell Types**"
   ]
  },
  {
   "cell_type": "code",
   "execution_count": 24,
   "id": "6af7d1bf-bd25-4195-8a4f-420063d9e83e",
   "metadata": {},
   "outputs": [],
   "source": [
    "vumc_rename_dict = {\n",
    "    \"usage_29\":\"usage_29_STM\",\n",
    "    \"usage_7\":\"usage_7_END1\",\n",
    "    \"usage_6\":\"usage_6_BL1\",\n",
    "    \"usage_5\":\"usage_5_FIB1\",\n",
    "    \"usage_13\":\"usage_13_CRC1\",\n",
    "    \"usage_16\":\"usage_16_MYE1\",\n",
    "    \"usage_24\":\"usage_24_TL1\",\n",
    "    \"usage_14\":\"usage_14_MYE2\",\n",
    "    \"usage_26\":\"usage_26_CRC2\",\n",
    "    \"usage_10\":\"usage_10_CT\",\n",
    "    \"usage_2\":\"usage_2_SSC\",\n",
    "    \"usage_15\":\"usage_15_CRC3\",\n",
    "    \"usage_30\":\"usage_30_EE1\",\n",
    "    \"usage_3\":\"usage_3_MYE3\",\n",
    "    \"usage_18\":\"usage_18_PLA\",\n",
    "    \"usage_21\":\"usage_21_FIB2\",\n",
    "    \"usage_9\":\"usage_9_MYE4\",\n",
    "    \"usage_22\":\"usage_22_GOB\",\n",
    "    \"usage_1\":\"usage_1_MAS\",\n",
    "    \"usage_19\":\"usage_19_MYE5\",\n",
    "    \"usage_20\":\"usage_20_CRC4\",\n",
    "    \"usage_27\":\"usage_27_ABS\",\n",
    "    \"usage_12\":\"usage_12_TUF\",\n",
    "    \"usage_11\":\"usage_11_FIB3\",\n",
    "    \"usage_23\":\"usage_23_FIB4\",\n",
    "    \"usage_28\":\"usage_28_TL2\",\n",
    "    \"usage_17\":\"usage_17_END2\",\n",
    "    \"usage_4\":\"usage_4_TL3\",\n",
    "    \"usage_8\":\"usage_8_EE2\",\n",
    "    \"usage_25\":\"usage_25_BL2\",\n",
    "}"
   ]
  },
  {
   "cell_type": "markdown",
   "id": "930afebe-33c0-4354-a514-9214bae9c90c",
   "metadata": {},
   "source": [
    "#### **Plot renamed usage umaps**"
   ]
  },
  {
   "cell_type": "code",
   "execution_count": 25,
   "id": "b302bb3e-f7c5-40ae-b534-d493499b37f8",
   "metadata": {},
   "outputs": [],
   "source": [
    "cnmf_plotting_utils.plot_usages_umap(\n",
    "    vumc_adata,\n",
    "    output_prefix = vumc_out_dir,\n",
    "    usages = 30,\n",
    "    rename_dict = vumc_rename_dict,\n",
    "    dpi = 600\n",
    "    )"
   ]
  },
  {
   "cell_type": "markdown",
   "id": "bcf8b2e6-53d3-4ba7-933d-2df49ce5e6a7",
   "metadata": {},
   "source": [
    "#### **Plot gene spectra scores for each usage**"
   ]
  },
  {
   "cell_type": "code",
   "execution_count": 26,
   "id": "5c0019db-73b3-4e06-ab83-14372f5005f8",
   "metadata": {},
   "outputs": [],
   "source": [
    "cnmf_plotting_utils.plot_spectra_scores(\n",
    "    spectra_file = \"/home/james/data/cNMF_out/VUMC_test_cNMF/VUMC_test_cNMF.gene_spectra_score.k_30.dt_0_05.txt\",\n",
    "    output_prefix = vumc_out_dir,\n",
    "    fig_rows = 5,\n",
    "    fig_cols = 6,\n",
    "    rename_dict = vumc_rename_dict,\n",
    "    fig_width= 20, \n",
    "    fig_height = 24\n",
    "    )"
   ]
  },
  {
   "cell_type": "markdown",
   "id": "0aec2d31-b9be-462d-8bc2-db8d53572dfa",
   "metadata": {},
   "source": [
    "## <span style=\"color:darkred\">Immune Exclusion Data: downsampled proportionally and filtered by atleast 100 cell type observations</span>\n",
    "**Description:** <br>"
   ]
  },
  {
   "cell_type": "markdown",
   "id": "efbbb215-a5d4-48a8-9d9d-28413c801805",
   "metadata": {},
   "source": [
    "#### **Import Data and set output directory**"
   ]
  },
  {
   "cell_type": "code",
   "execution_count": 55,
   "id": "065e4519-90c6-4773-80dd-619dd7f6114e",
   "metadata": {},
   "outputs": [],
   "source": [
    "immun_excl_filter_adata = sc.read_h5ad(\n",
    "    '/home/james/data/cNMF_out/filter_100_ds_immmun_excl/filter_100_ds_immmun_excl_k22_dt0_05.h5ad'\n",
    "    )\n",
    "\n",
    "immun_excl_filter_out_dir = '/home/james/data/cNMF_out/filter_100_ds_immmun_excl/filter_100_ds_immmun_excl_k22'"
   ]
  },
  {
   "cell_type": "markdown",
   "id": "3260421e-4974-4ebb-91cd-79c5ef2fb139",
   "metadata": {},
   "source": [
    "#### **Plot usage umaps**"
   ]
  },
  {
   "cell_type": "code",
   "execution_count": 56,
   "id": "a74a8c83-f2c2-4d36-8fbf-64b03c67bd1b",
   "metadata": {},
   "outputs": [],
   "source": [
    "cnmf_plotting_utils.plot_usages_umap(\n",
    "    immun_excl_filter_adata,\n",
    "    output_prefix = immun_excl_filter_out_dir,\n",
    "    usages=22\n",
    "    )"
   ]
  },
  {
   "cell_type": "markdown",
   "id": "b128a397-16a2-43ae-8810-14a8f4a0d2f2",
   "metadata": {},
   "source": [
    "#### **Plot each cell type**"
   ]
  },
  {
   "cell_type": "code",
   "execution_count": 57,
   "id": "fa7388d6-2017-4eb6-b77b-94988481e8d8",
   "metadata": {},
   "outputs": [],
   "source": [
    "cnmf_plotting_utils.plot_celltypes_umap(\n",
    "    immun_excl_filter_adata,\n",
    "    ncols=6,\n",
    "    output_prefix = immun_excl_filter_out_dir,\n",
    "    figsize=(30, 16),\n",
    "    point_size=0.5,\n",
    "    dpi = 600\n",
    "    )"
   ]
  },
  {
   "cell_type": "markdown",
   "id": "0fa12c12-1363-40c4-a452-c4985c58176a",
   "metadata": {},
   "source": [
    "#### **define renaming dictionary**"
   ]
  },
  {
   "cell_type": "code",
   "execution_count": 58,
   "id": "77bfc3c7-de40-4b7d-863d-1b2e0eb4801b",
   "metadata": {},
   "outputs": [],
   "source": [
    "immun_excl_filter_rename_dict = {\n",
    "    \"usage_1\":\"Macrophages_1\",\n",
    "    \"usage_2\":\"Basal_cells\",\n",
    "    \"usage_3\":\"Endothelial_cells_1\",\n",
    "    \"usage_4\":\"Plasma_cells\",\n",
    "    \"usage_5\":\"Fibroblast_1\",\n",
    "    \"usage_6\":\"Cholangiocytes_1\",\n",
    "    \"usage_7\":\"Cholangiocytes_2\",\n",
    "    \"usage_8\":\"Mast_cells\",\n",
    "    \"usage_9\":\"T_cells\",\n",
    "    \"usage_10\":\"Cholangiocytes_3\",\n",
    "    \"usage_11\":\"Smooth_Muscle_cells_1\",\n",
    "    \"usage_12\":\"B_cells\",\n",
    "    \"usage_13\":\"Fibroblast_2\",\n",
    "    \"usage_14\":\"Neutrophils\",\n",
    "    \"usage_15\":\"Crypt_&_Cholangiocytes\",\n",
    "    \"usage_16\":\"Macrophages_2\",\n",
    "    \"usage_17\":\"Smooth_Muscle_cells_2\",\n",
    "    \"usage_18\":\"Macrophages_3\",\n",
    "    \"usage_19\":\"Fibroblast_3\",\n",
    "    \"usage_20\":\"T_cells_&_T_memory\",\n",
    "    \"usage_21\":\"Endothelial_cells\",\n",
    "    \"usage_22\":\"Goblet_cells\"\n",
    "    }"
   ]
  },
  {
   "cell_type": "markdown",
   "id": "2bd49409-5f5e-4f90-bfeb-9986412eb17d",
   "metadata": {},
   "source": [
    "#### **Plot gene spectra scores**"
   ]
  },
  {
   "cell_type": "code",
   "execution_count": 59,
   "id": "420f2882-f42c-4fce-884c-d6f6a80eda24",
   "metadata": {},
   "outputs": [],
   "source": [
    "cnmf_plotting_utils.plot_spectra_scores(\n",
    "    spectra_file = \"/home/james/data/cNMF_out/filter_100_ds_immmun_excl/filter_100_ds_immmun_excl.gene_spectra_score.k_22.dt_0_05.txt\",\n",
    "    output_prefix = immun_excl_filter_out_dir,\n",
    "    fig_rows = 5,\n",
    "    fig_cols = 5,\n",
    "    rename_dict = immun_excl_filter_rename_dict,\n",
    "    fig_width= 20, \n",
    "    fig_height = 24\n",
    "    )"
   ]
  },
  {
   "cell_type": "markdown",
   "id": "4c05fbdc-4aa2-4cee-b7c4-3f21c219d8d4",
   "metadata": {},
   "source": [
    "#### **Plot renamed usage umaps**"
   ]
  },
  {
   "cell_type": "code",
   "execution_count": 60,
   "id": "15803d56-133e-490e-8399-beac8df2946c",
   "metadata": {},
   "outputs": [],
   "source": [
    "cnmf_plotting_utils.plot_usages_umap(\n",
    "    immun_excl_filter_adata,\n",
    "    output_prefix = immun_excl_filter_out_dir,\n",
    "    usages = 22,\n",
    "    rename_dict = immun_excl_filter_rename_dict\n",
    "    )"
   ]
  },
  {
   "cell_type": "markdown",
   "id": "14633313-df93-42b2-90af-d337eac1734c",
   "metadata": {},
   "source": [
    "## <span style=\"color:darkred\">Immune Exclusion Data: downsampled with goal of 2000 cell type observation (counts_method)</span>\n",
    "**Description:**"
   ]
  },
  {
   "cell_type": "markdown",
   "id": "68d07965-8626-4abd-b7cc-c8589ec81ed8",
   "metadata": {},
   "source": [
    "#### **Import Data and set output directory**"
   ]
  },
  {
   "cell_type": "code",
   "execution_count": 72,
   "id": "c489bb93-25e2-46ef-9b80-1907ede8da50",
   "metadata": {},
   "outputs": [],
   "source": [
    "immu_excl_count_2000 = immu_excl_nmf_adata = sc.read_h5ad(\n",
    "    \"/home/james/data/cNMF_out/count_2000_ds_immune_excl/count_2000_ds_immune_excl_k22_dt0_05.h5ad\"\n",
    "    )\n",
    "\n",
    "# Output directory with prefix of output files\n",
    "immu_excl_count_2000_out_dir = '/home/james/data/cNMF_out/count_2000_ds_immune_excl/count_2000_ds_immune_excl_k22'"
   ]
  },
  {
   "cell_type": "markdown",
   "id": "40dfd22b-a148-48ff-ad6a-a6456a73c1b7",
   "metadata": {},
   "source": [
    "#### **Plot usages**"
   ]
  },
  {
   "cell_type": "code",
   "execution_count": 73,
   "id": "cf5de73f-04a6-4ca5-a59c-dab7312bdfd9",
   "metadata": {},
   "outputs": [],
   "source": [
    "cnmf_plotting_utils.plot_usages_umap(\n",
    "    immu_excl_count_2000, \n",
    "    output_prefix = immu_excl_count_2000_out_dir,\n",
    "    usages=22\n",
    "    )"
   ]
  },
  {
   "cell_type": "markdown",
   "id": "5fe8c376-32f0-456e-b683-90201036e111",
   "metadata": {},
   "source": [
    "#### **Plot cell types**"
   ]
  },
  {
   "cell_type": "code",
   "execution_count": 74,
   "id": "1ecfbcc6-c98a-49c5-9468-81917616b64a",
   "metadata": {},
   "outputs": [],
   "source": [
    "cnmf_plotting_utils.plot_celltypes_umap(\n",
    "    immu_excl_count_2000,\n",
    "    ncols=6,\n",
    "    output_prefix = immu_excl_count_2000_out_dir,\n",
    "    figsize=(30, 20),\n",
    "    point_size=0.5,\n",
    "    dpi = 600)"
   ]
  },
  {
   "cell_type": "markdown",
   "id": "368ea389-2e90-4953-913a-addc59ab20bf",
   "metadata": {},
   "source": [
    "#### **Define usage names**"
   ]
  },
  {
   "cell_type": "code",
   "execution_count": 75,
   "id": "789b606d-3e36-4917-8ab7-4e0a4612ccbe",
   "metadata": {},
   "outputs": [],
   "source": [
    "immun_excl_count_rename_dict = {\n",
    "    \"usage_1\":\"Cholangiocytes_1\",\n",
    "    \"usage_2\":\"Smooth_Muscle_1\",\n",
    "    \"usage_3\":\"NK cells\",\n",
    "    \"usage_4\":\"Neutrophils\",\n",
    "    \"usage_5\":\"Endothelial\",\n",
    "    \"usage_6\":\"Fibroblast_1\",\n",
    "    \"usage_7\":\"Schwann_Cells\",\n",
    "    \"usage_8\":\"Mast_Cells\",\n",
    "    \"usage_9\":\"Adipocytes\",\n",
    "    \"usage_10\":\"Enteric Neurons\",\n",
    "    \"usage_11\":\"Enterocytes\",\n",
    "    \"usage_12\":\"B_Cells\",\n",
    "    \"usage_13\":\"Basal_Cells\",\n",
    "    \"usage_14\":\"Smooth_Muscle_2\",\n",
    "    \"usage_15\":\"Plasma_cells\",\n",
    "    \"usage_16\":\"Goblet_Cells\",\n",
    "    \"usage_17\":\"Macrophages\",\n",
    "    \"usage_18\":\"T_cells_T_memory\",\n",
    "    \"usage_19\":\"Alveolar_Macrophages\",\n",
    "    \"usage_20\":\"Fibroblast_2\",\n",
    "    \"usage_21\":\"Cholangiocytes_2\",\n",
    "    \"usage_22\":\"Dendritic_Cells\"\n",
    "    }"
   ]
  },
  {
   "cell_type": "markdown",
   "id": "d7427dba-be87-4669-9fa4-1c77eef450f0",
   "metadata": {},
   "source": [
    "#### **Plot gene spectra scores**"
   ]
  },
  {
   "cell_type": "code",
   "execution_count": 77,
   "id": "c2138dd7-caa3-4637-8a2c-e7055921ed6d",
   "metadata": {},
   "outputs": [],
   "source": [
    "cnmf_plotting_utils.plot_spectra_scores(\n",
    "    spectra_file='/home/james/data/cNMF_out/count_2000_ds_immune_excl/count_2000_ds_immune_excl.gene_spectra_score.k_22.dt_0_05.txt',\n",
    "    output_prefix = immu_excl_count_2000_out_dir,\n",
    "    n_genes = 25,\n",
    "    fig_rows = 5,\n",
    "    fig_cols = 5,\n",
    "    rename_dict = immun_excl_count_rename_dict,\n",
    "    fig_width= 20, \n",
    "    fig_height = 24\n",
    "    )\n"
   ]
  },
  {
   "cell_type": "markdown",
   "id": "7f2f67a0-c57c-467b-ac3d-e72fba0b5bcf",
   "metadata": {},
   "source": [
    "## <span style=\"color:darkred\">Immune Exclusion Data: desnity-dependent downsample with rare</span>\n",
    "**Description:**"
   ]
  },
  {
   "cell_type": "code",
   "execution_count": 2,
   "id": "0aa1a9b1-6da3-4bcf-908c-d5a4fadb7f4d",
   "metadata": {},
   "outputs": [],
   "source": [
    "density_adata = sc.read_h5ad(\n",
    "    '/home/james/data/cNMF_out/density_ds_immune_excl/density_ds_immune_excl_k33_dt0_05.h5ad'\n",
    "    )\n",
    "\n",
    "density_out_dir = '/home/james/data/cNMF_out/density_ds_immune_excl/density_ds_immune_excl'"
   ]
  },
  {
   "cell_type": "code",
   "execution_count": 10,
   "id": "8e4332a0-2e51-4865-8a0a-857b9b15459a",
   "metadata": {},
   "outputs": [],
   "source": [
    "cnmf_plotting_utils.plot_celltypes_umap(\n",
    "    adata = density_adata,\n",
    "    ncols = 6,\n",
    "    output_prefix = density_out_dir,\n",
    "    figsize = (20,19),\n",
    "    point_size = 0.5\n",
    "    )"
   ]
  },
  {
   "cell_type": "code",
   "execution_count": 6,
   "id": "28edcb9f-ef68-485c-a562-78bff0438bd2",
   "metadata": {},
   "outputs": [],
   "source": [
    "cnmf_plotting_utils.plot_usages_umap(\n",
    "    adata = density_adata,\n",
    "    output_prefix = density_out_dir,\n",
    "    n_cols = 6,\n",
    "    usages = 33,\n",
    "    figsize = ()\n",
    ")"
   ]
  },
  {
   "cell_type": "code",
   "execution_count": null,
   "id": "fb0760da-f507-42b5-9deb-6513603f8039",
   "metadata": {},
   "outputs": [],
   "source": [
    "immun_excl_count_rename_dict = {\n",
    "    \"usage_1\":\"Enteric Neurons\",\n",
    "    \"usage_2\":\"\",\n",
    "    \"usage_3\":\"NK cells\",\n",
    "    \"usage_4\":\"Endothelial_1\",\n",
    "    \"usage_5\":\"Smooth_Muscle\",\n",
    "    \"usage_6\":\"Fibroblast_1\",\n",
    "    \"usage_7\":\"Schwann_Cells\",\n",
    "    \"usage_8\":\"Mast_Cells\",\n",
    "    \"usage_9\":\"Adipocytes\",\n",
    "    \"usage_10\":\"Enteric Neurons\",\n",
    "    \"usage_11\":\"Adipocytes\",\n",
    "    \"usage_12\":\"CRC\",\n",
    "    \"usage_13\":\"Basal_Cells\",\n",
    "    \"usage_14\":\"Smooth_Muscle_2\",\n",
    "    \"usage_15\":\"Plasma_cells\",\n",
    "    \"usage_16\":\"Goblet_Cells\",\n",
    "    \"usage_17\":\"Macrophages\",\n",
    "    \"usage_18\":\"T_cells_T_memory\",\n",
    "    \"usage_19\":\"Alveolar_Macrophages\",\n",
    "    \"usage_20\":\"Neutrophils\",\n",
    "    \"usage_21\":\"Cholangiocytes_2\",\n",
    "    \"usage_22\":\"Alveolar_Macrophages\",\n",
    "    \"usage_23\":\"Enterocytes\",\n",
    "    \"usage_24\":\"Goblet\",\n",
    "    \"usage_25\":\"Basal_Cells\",\n",
    "    \"usage_26\":\"Smooth_Muscle_2\",\n",
    "    \"usage_27\":\"Endothelial_2\",\n",
    "    \"usage_28\":\"Goblet_Cells\",\n",
    "    \"usage_29\":\"Macrophages\",\n",
    "    \"usage_30\":\"T_cells_T_memory\",\n",
    "    \"usage_31\":\"Alveolar_Macrophages\",\n",
    "    \"usage_32\":\"Fibroblast_2\",\n",
    "    \"usage_33\":\"Cholangiocytes_2\"\n",
    "    }"
   ]
  },
  {
   "cell_type": "code",
   "execution_count": 4,
   "id": "d0baef1e-9da6-4561-a95a-19d4bb34929f",
   "metadata": {},
   "outputs": [],
   "source": [
    "cnmf_plotting_utils.plot_spectra_scores(\n",
    "    spectra_file = '/home/james/data/cNMF_out/density_ds_immune_excl/density_ds_immune_excl.gene_spectra_score.k_33.dt_0_05.txt',\n",
    "    output_prefix = density_out_dir,\n",
    "    n_genes = 25,\n",
    "    fig_rows = 6,\n",
    "    fig_cols = 6,\n",
    "    rename_dict = None,\n",
    "    fig_width= 20, \n",
    "    fig_height = 24\n",
    "    )"
   ]
  },
  {
   "cell_type": "code",
   "execution_count": null,
   "id": "182e5878-816c-404d-b20e-7ef560e5ecd3",
   "metadata": {},
   "outputs": [],
   "source": []
  },
  {
   "cell_type": "code",
   "execution_count": 11,
   "id": "ae479aaa-ec38-42a0-9162-f45fd204e394",
   "metadata": {},
   "outputs": [],
   "source": [
    "sample_adata = sc.read_h5ad(\n",
    "    '/home/james/data/cNMF_out/sample_10096_s1_cNMF/sample_10096_s1_cNMF_k28_dt0_05.h5ad'\n",
    "    )\n",
    "\n",
    "sample_out_dir = '/home/james/data/cNMF_out/sample_10096_s1_cNMF/sample_10096_s1_cNMF'"
   ]
  },
  {
   "cell_type": "code",
   "execution_count": 14,
   "id": "39781427-8708-4d82-b1bc-803eb6092121",
   "metadata": {},
   "outputs": [],
   "source": [
    "cnmf_plotting_utils.plot_celltypes_umap(\n",
    "    adata = sample_adata,\n",
    "    ncols = 6,\n",
    "    output_prefix = sample_out_dir,\n",
    "    figsize = (12,6),\n",
    "    point_size = 0.5\n",
    "    )"
   ]
  },
  {
   "cell_type": "code",
   "execution_count": 17,
   "id": "5c54c1d5-1c99-485d-9f82-ad5d0996dc17",
   "metadata": {},
   "outputs": [],
   "source": [
    "cnmf_plotting_utils.plot_usages_umap(\n",
    "    adata = sample_adata,\n",
    "    output_prefix = sample_out_dir,\n",
    "    n_cols = 6,\n",
    "    usages = 28\n",
    "    )"
   ]
  },
  {
   "cell_type": "markdown",
   "id": "6f377055-bb09-4420-aa7f-cee59ffe2c35",
   "metadata": {},
   "source": [
    "## <span style=\"color:darkred\">Immune Exclusion Data: downsampled with density dependent method on all cell types</span>\n",
    "**Description:**"
   ]
  },
  {
   "cell_type": "code",
   "execution_count": 2,
   "id": "cc2181ee-60a8-4769-92c8-870d84744298",
   "metadata": {},
   "outputs": [],
   "source": [
    "pca_density_adata = sc.read_h5ad(\n",
    "    '/home/james/data/cNMF_out/pca_density_ds_cnmf/pca_density_ds_cnmf_k27_dt0_05.h5ad'\n",
    "    )\n",
    "\n",
    "pca_density_out_dir = '/home/james/data/cNMF_out/pca_density_ds_cnmf/pca_density_ds_cnmf'"
   ]
  },
  {
   "cell_type": "code",
   "execution_count": 7,
   "id": "87bd1a2b-6382-4403-a732-72f1124e16b7",
   "metadata": {},
   "outputs": [
    {
     "name": "stderr",
     "output_type": "stream",
     "text": [
      "/tmp/ipykernel_511292/2727538285.py:11: FutureWarning: this method is deprecated in favour of `Styler.hide(axis='index')`\n",
      "  styled_df = styled_df.set_table_styles([{'selector': 'th', 'props': [('text-align', 'left'),('font-weight', 'bold')]},\n"
     ]
    }
   ],
   "source": [
    "import pandas as pd\n",
    "\n",
    "# Assuming your code produces a pandas Series like this:\n",
    "cell_counts = pca_density_adata.obs['Cell_Type'].value_counts() \n",
    "\n",
    "# Convert the Series to a DataFrame for easier styling\n",
    "df = pd.DataFrame({'Cell Type': cell_counts.index, 'Count': cell_counts.values})\n",
    "\n",
    "# Style the DataFrame for better readability\n",
    "styled_df = df.style.format({'Count': '{:,}'})  # Add commas for thousands\n",
    "styled_df = styled_df.set_table_styles([{'selector': 'th', 'props': [('text-align', 'left'),('font-weight', 'bold')]},\n",
    "                                        {'selector': 'td', 'props': [('text-align', 'left')]}]).hide_index()\n",
    "\n",
    "#Output options:\n",
    "#print(styled_df.to_html()) #for HTML output (copy-paste to markdown, jupyter etc)\n",
    "#or\n",
    "#styled_df #to display directly in a Jupyter Notebook\n",
    "#or save to file:\n",
    "#styled_df.to_excel(\"cell_counts.xlsx\")"
   ]
  },
  {
   "cell_type": "markdown",
   "id": "60c1c8e9-33ef-4c62-9d7b-53166d339ea8",
   "metadata": {},
   "source": [
    "<style type=\"text/css\">\n",
    "#T_3444a th {\n",
    "  text-align: left;\n",
    "  font-weight: bold;\n",
    "}\n",
    "#T_3444a td {\n",
    "  text-align: left;\n",
    "}\n",
    "</style>\n",
    "<table id=\"T_3444a\">\n",
    "  <thead>\n",
    "    <tr>\n",
    "      <th id=\"T_3444a_level0_col0\" class=\"col_heading level0 col0\" >Cell Type</th>\n",
    "      <th id=\"T_3444a_level0_col1\" class=\"col_heading level0 col1\" >Count</th>\n",
    "    </tr>\n",
    "  </thead>\n",
    "  <tbody>\n",
    "    <tr>\n",
    "      <td id=\"T_3444a_row0_col0\" class=\"data row0 col0\" >Plasma cells</td>\n",
    "      <td id=\"T_3444a_row0_col1\" class=\"data row0 col1\" >5,377</td>\n",
    "    </tr>\n",
    "    <tr>\n",
    "      <td id=\"T_3444a_row1_col0\" class=\"data row1 col0\" >Fibroblasts</td>\n",
    "      <td id=\"T_3444a_row1_col1\" class=\"data row1 col1\" >5,168</td>\n",
    "    </tr>\n",
    "    <tr>\n",
    "      <td id=\"T_3444a_row2_col0\" class=\"data row2 col0\" >Cholangiocytes</td>\n",
    "      <td id=\"T_3444a_row2_col1\" class=\"data row2 col1\" >4,199</td>\n",
    "    </tr>\n",
    "    <tr>\n",
    "      <td id=\"T_3444a_row3_col0\" class=\"data row3 col0\" >Macrophages</td>\n",
    "      <td id=\"T_3444a_row3_col1\" class=\"data row3 col1\" >2,952</td>\n",
    "    </tr>\n",
    "    <tr>\n",
    "      <td id=\"T_3444a_row4_col0\" class=\"data row4 col0\" >Basal cells</td>\n",
    "      <td id=\"T_3444a_row4_col1\" class=\"data row4 col1\" >1,817</td>\n",
    "    </tr>\n",
    "    <tr>\n",
    "      <td id=\"T_3444a_row5_col0\" class=\"data row5 col0\" >Goblet cells</td>\n",
    "      <td id=\"T_3444a_row5_col1\" class=\"data row5 col1\" >1,382</td>\n",
    "    </tr>\n",
    "    <tr>\n",
    "      <td id=\"T_3444a_row6_col0\" class=\"data row6 col0\" >B cells</td>\n",
    "      <td id=\"T_3444a_row6_col1\" class=\"data row6 col1\" >1,212</td>\n",
    "    </tr>\n",
    "    <tr>\n",
    "      <td id=\"T_3444a_row7_col0\" class=\"data row7 col0\" >Endothelial cells</td>\n",
    "      <td id=\"T_3444a_row7_col1\" class=\"data row7 col1\" >947</td>\n",
    "    </tr>\n",
    "    <tr>\n",
    "      <td id=\"T_3444a_row8_col0\" class=\"data row8 col0\" >T cells</td>\n",
    "      <td id=\"T_3444a_row8_col1\" class=\"data row8 col1\" >933</td>\n",
    "    </tr>\n",
    "    <tr>\n",
    "      <td id=\"T_3444a_row9_col0\" class=\"data row9 col0\" >Crypt cells</td>\n",
    "      <td id=\"T_3444a_row9_col1\" class=\"data row9 col1\" >520</td>\n",
    "    </tr>\n",
    "    <tr>\n",
    "      <td id=\"T_3444a_row10_col0\" class=\"data row10 col0\" >Smooth muscle cells</td>\n",
    "      <td id=\"T_3444a_row10_col1\" class=\"data row10 col1\" >478</td>\n",
    "    </tr>\n",
    "    <tr>\n",
    "      <td id=\"T_3444a_row11_col0\" class=\"data row11 col0\" >Neutrophils</td>\n",
    "      <td id=\"T_3444a_row11_col1\" class=\"data row11 col1\" >308</td>\n",
    "    </tr>\n",
    "    <tr>\n",
    "      <td id=\"T_3444a_row12_col0\" class=\"data row12 col0\" >Enterocytes</td>\n",
    "      <td id=\"T_3444a_row12_col1\" class=\"data row12 col1\" >146</td>\n",
    "    </tr>\n",
    "    <tr>\n",
    "      <td id=\"T_3444a_row13_col0\" class=\"data row13 col0\" >Ductal cells</td>\n",
    "      <td id=\"T_3444a_row13_col1\" class=\"data row13 col1\" >132</td>\n",
    "    </tr>\n",
    "    <tr>\n",
    "      <td id=\"T_3444a_row14_col0\" class=\"data row14 col0\" >Mast cells</td>\n",
    "      <td id=\"T_3444a_row14_col1\" class=\"data row14 col1\" >131</td>\n",
    "    </tr>\n",
    "    <tr>\n",
    "      <td id=\"T_3444a_row15_col0\" class=\"data row15 col0\" >NK cells</td>\n",
    "      <td id=\"T_3444a_row15_col1\" class=\"data row15 col1\" >89</td>\n",
    "    </tr>\n",
    "    <tr>\n",
    "      <td id=\"T_3444a_row16_col0\" class=\"data row16 col0\" >T memory cells</td>\n",
    "      <td id=\"T_3444a_row16_col1\" class=\"data row16 col1\" >76</td>\n",
    "    </tr>\n",
    "    <tr>\n",
    "      <td id=\"T_3444a_row17_col0\" class=\"data row17 col0\" >Adipocytes</td>\n",
    "      <td id=\"T_3444a_row17_col1\" class=\"data row17 col1\" >52</td>\n",
    "    </tr>\n",
    "    <tr>\n",
    "      <td id=\"T_3444a_row18_col0\" class=\"data row18 col0\" >Epithelial cells</td>\n",
    "      <td id=\"T_3444a_row18_col1\" class=\"data row18 col1\" >49</td>\n",
    "    </tr>\n",
    "    <tr>\n",
    "      <td id=\"T_3444a_row19_col0\" class=\"data row19 col0\" >Dendritic cells</td>\n",
    "      <td id=\"T_3444a_row19_col1\" class=\"data row19 col1\" >47</td>\n",
    "    </tr>\n",
    "    <tr>\n",
    "      <td id=\"T_3444a_row20_col0\" class=\"data row20 col0\" >Alveolar macrophages</td>\n",
    "      <td id=\"T_3444a_row20_col1\" class=\"data row20 col1\" >39</td>\n",
    "    </tr>\n",
    "    <tr>\n",
    "      <td id=\"T_3444a_row21_col0\" class=\"data row21 col0\" >B cells memory</td>\n",
    "      <td id=\"T_3444a_row21_col1\" class=\"data row21 col1\" >24</td>\n",
    "    </tr>\n",
    "    <tr>\n",
    "      <td id=\"T_3444a_row22_col0\" class=\"data row22 col0\" >Plasmacytoid dendritic cells</td>\n",
    "      <td id=\"T_3444a_row22_col1\" class=\"data row22 col1\" >16</td>\n",
    "    </tr>\n",
    "    <tr>\n",
    "      <td id=\"T_3444a_row23_col0\" class=\"data row23 col0\" >Enteric glia cells</td>\n",
    "      <td id=\"T_3444a_row23_col1\" class=\"data row23 col1\" >14</td>\n",
    "    </tr>\n",
    "    <tr>\n",
    "      <td id=\"T_3444a_row24_col0\" class=\"data row24 col0\" >Schwann cells</td>\n",
    "      <td id=\"T_3444a_row24_col1\" class=\"data row24 col1\" >11</td>\n",
    "    </tr>\n",
    "    <tr>\n",
    "      <td id=\"T_3444a_row25_col0\" class=\"data row25 col0\" >Enteric neurons</td>\n",
    "      <td id=\"T_3444a_row25_col1\" class=\"data row25 col1\" >9</td>\n",
    "    </tr>\n",
    "    <tr>\n",
    "      <td id=\"T_3444a_row26_col0\" class=\"data row26 col0\" >Pericytes</td>\n",
    "      <td id=\"T_3444a_row26_col1\" class=\"data row26 col1\" >8</td>\n",
    "    </tr>\n",
    "  </tbody>\n",
    "</table>\n"
   ]
  },
  {
   "cell_type": "code",
   "execution_count": 11,
   "id": "f6beaeb6-2faf-4537-8e7c-cdf55569d829",
   "metadata": {},
   "outputs": [],
   "source": [
    "cnmf_plotting_utils.plot_celltypes_umap(\n",
    "    adata = pca_density_adata,\n",
    "    ncols = 6,\n",
    "    output_prefix = pca_density_out_dir,\n",
    "    figsize = (20,19),\n",
    "    point_size = 0.5\n",
    "    )"
   ]
  },
  {
   "cell_type": "code",
   "execution_count": 13,
   "id": "d280efbd-a439-4be5-84b7-3fabc6564ddd",
   "metadata": {},
   "outputs": [],
   "source": [
    "cnmf_plotting_utils.plot_usages_umap(\n",
    "    adata = pca_density_adata,\n",
    "    output_prefix = pca_density_out_dir,\n",
    "    n_cols = 6,\n",
    "    usages = 27\n",
    ")"
   ]
  },
  {
   "cell_type": "code",
   "execution_count": 8,
   "id": "c8e9588d-ac92-49be-924e-1da94a78174f",
   "metadata": {},
   "outputs": [],
   "source": [
    "pca_rename_dict = {\n",
    "    \"usage_1\":\"Macrophage_1\",\n",
    "    \"usage_2\":\"Cholangiocytes_1\",\n",
    "    \"usage_3\":\"Adipocytes\",\n",
    "    \"usage_4\":\"Endothelial_2\",\n",
    "    \"usage_5\":\"Smooth_Muscle_1\",\n",
    "    \"usage_6\":\"Plasma\",\n",
    "    \"usage_7\":\"Mast\",\n",
    "    \"usage_8\":\"T_&_T_Mem\",\n",
    "    \"usage_9\":\"Enteric_Neurons\",\n",
    "    \"usage_10\":\"Smooth_Muscle_2\",\n",
    "    \"usage_11\":\"Neutrophils\",\n",
    "    \"usage_12\":\"Fibroblast_1\",\n",
    "    \"usage_13\":\"Cholangiocytes_2\",\n",
    "    \"usage_14\":\"Enterocytes\",\n",
    "    \"usage_15\":\"Macrophages_2\",\n",
    "    \"usage_16\":\"Basal_2\",\n",
    "    \"usage_17\":\"B_cells\",\n",
    "    \"usage_18\":\"Fibroblast_2\",\n",
    "    \"usage_19\":\"Basal_2\",\n",
    "    \"usage_20\":\"Cholangiocytes_3\",\n",
    "    \"usage_21\":\"Goblet\",\n",
    "    \"usage_22\":\"NK_cells\",\n",
    "    \"usage_23\":\"Endothelial_2\",\n",
    "    \"usage_24\":\"Fibroblast_3\",\n",
    "    \"usage_25\":\"Macrophages_3\",\n",
    "    \"usage_26\":\"Fibroblast_4\",\n",
    "    \"usage_27\":\"Not Specific\"\n",
    "    }"
   ]
  },
  {
   "cell_type": "code",
   "execution_count": 9,
   "id": "5e4bd0de-95cb-471b-8e7a-790548f561c8",
   "metadata": {},
   "outputs": [],
   "source": [
    "cnmf_plotting_utils.plot_spectra_scores(\n",
    "    spectra_file='/home/james/data/cNMF_out/pca_density_ds_cnmf/pca_density_ds_cnmf.gene_spectra_score.k_27.dt_0_05.txt',\n",
    "    output_prefix = pca_density_out_dir,\n",
    "    n_genes = 25,\n",
    "    fig_rows = 6,\n",
    "    fig_cols = 5,\n",
    "    rename_dict = pca_rename_dict,\n",
    "    fig_width= 20, \n",
    "    fig_height = 26\n",
    "    )"
   ]
  },
  {
   "cell_type": "code",
   "execution_count": 12,
   "id": "c32df44d-1ee1-4369-bb5e-40be217f71cb",
   "metadata": {},
   "outputs": [],
   "source": [
    "cnmf_plotting_utils.plot_usages_umap(\n",
    "    adata = pca_density_adata,\n",
    "    output_prefix = pca_density_out_dir,\n",
    "    n_cols = 6,\n",
    "    usages = 27,\n",
    "    rename_dict = pca_rename_dict\n",
    ")"
   ]
  },
  {
   "cell_type": "markdown",
   "id": "cb1cca8f-e408-480a-8ac3-704233e185b7",
   "metadata": {},
   "source": [
    "## <span style=\"color:darkred\">Immune Exclusion Data: downsampled with density dependent method and everything less than 1% of cell count remained the same</span>\n",
    "**Description:**"
   ]
  },
  {
   "cell_type": "code",
   "execution_count": 2,
   "id": "b7a76628-d927-4c59-be28-488bcf1a06d0",
   "metadata": {},
   "outputs": [],
   "source": [
    "rare_pca_density_adata = sc.read_h5ad(\n",
    "    '/home/james/data/cNMF_out/rare_pca_density_ds_cnmf/rare_pca_density_ds_cnmf_k25_dt0_05.h5ad'\n",
    "    )\n",
    "\n",
    "rare_pca_density_out_dir = '/home/james/data/cNMF_out/rare_pca_density_ds_cnmf/rare_pca_density_ds_cnmf'"
   ]
  },
  {
   "cell_type": "code",
   "execution_count": 3,
   "id": "7e247d33-3759-4a36-9c3d-3904f684df01",
   "metadata": {},
   "outputs": [],
   "source": [
    "cnmf_plotting_utils.plot_celltypes_umap(\n",
    "    adata = rare_pca_density_adata,\n",
    "    ncols = 6,\n",
    "    output_prefix = rare_pca_density_out_dir,\n",
    "    figsize = (20,19),\n",
    "    point_size = 0.5\n",
    "    )"
   ]
  },
  {
   "cell_type": "code",
   "execution_count": 4,
   "id": "3bc2affc-4cc7-46d8-8632-1ea26fd1e56d",
   "metadata": {},
   "outputs": [],
   "source": [
    "cnmf_plotting_utils.plot_usages_umap(\n",
    "    adata = rare_pca_density_adata,\n",
    "    output_prefix = rare_pca_density_out_dir,\n",
    "    n_cols = 6,\n",
    "    usages = 25\n",
    "    )"
   ]
  },
  {
   "cell_type": "code",
   "execution_count": 14,
   "id": "467a66e0-2499-4951-a6c4-71aaf7279f77",
   "metadata": {},
   "outputs": [],
   "source": [
    "rare_pca_rename_dict = {\n",
    "    \"usage_1\":\"CRC1\",\n",
    "    \"usage_2\":\"Fibro1\",\n",
    "    \"usage_3\":\"Macro1\",\n",
    "    \"usage_4\":\"B&BMem\",\n",
    "    \"usage_5\":\"SM1\",\n",
    "    \"usage_6\":\"End1\",\n",
    "    \"usage_7\":\"EntericNeur\",\n",
    "    \"usage_8\":\"Mast\",\n",
    "    \"usage_9\":\"Enterocytes\",\n",
    "    \"usage_10\":\"Neutrophils\",\n",
    "    \"usage_11\":\"PLM\",\n",
    "    \"usage_12\":\"SM2\",\n",
    "    \"usage_13\":\"Fibro2\",\n",
    "    \"usage_14\":\"T&TMem\",\n",
    "    \"usage_15\":\"Schwann\",\n",
    "    \"usage_16\":\"Macro2\",\n",
    "    \"usage_17\":\"CRC2\",\n",
    "    \"usage_18\":\"Fibro3\",\n",
    "    \"usage_19\":\"Adipo\",\n",
    "    \"usage_20\":\"CRC3\",\n",
    "    \"usage_21\":\"Basal1\",\n",
    "    \"usage_22\":\"Basal2\",\n",
    "    \"usage_23\":\"Macro3\",\n",
    "    \"usage_24\":\"End2\",\n",
    "    \"usage_25\":\"Goblet\"\n",
    "    }"
   ]
  },
  {
   "cell_type": "code",
   "execution_count": 5,
   "id": "30702209-29f6-4fa7-9195-d054672a92b4",
   "metadata": {},
   "outputs": [],
   "source": [
    "cnmf_plotting_utils.plot_spectra_scores(\n",
    "    spectra_file='/home/james/data/cNMF_out/rare_pca_density_ds_cnmf/rare_pca_density_ds_cnmf.gene_spectra_score.k_25.dt_0_05.txt',\n",
    "    output_prefix = rare_pca_density_out_dir,\n",
    "    n_genes = 25,\n",
    "    fig_rows = 5,\n",
    "    fig_cols = 5,\n",
    "    rename_dict = None,\n",
    "    fig_width= 20, \n",
    "    fig_height = 24\n",
    "    )"
   ]
  },
  {
   "cell_type": "code",
   "execution_count": 15,
   "id": "976de525-5129-4967-9bb6-afb9f9a3b605",
   "metadata": {},
   "outputs": [],
   "source": [
    "cnmf_plotting_utils.plot_usages_umap(\n",
    "    adata = rare_pca_density_adata,\n",
    "    output_prefix = rare_pca_density_out_dir,\n",
    "    n_cols = 6,\n",
    "    usages = 25,\n",
    "    rename_dict = rare_pca_rename_dict\n",
    "    )"
   ]
  },
  {
   "cell_type": "markdown",
   "id": "91b15c7b-83c5-440b-bc5a-038ace6a232a",
   "metadata": {},
   "source": [
    "## <span style=\"color:darkred\">Immune Exclusion Data: downsampled with density dependent method and a filter of cell types that have less than 0.25% of total cell count</span>\n",
    "**Description:**"
   ]
  },
  {
   "cell_type": "code",
   "execution_count": 3,
   "id": "bba93036-ab49-4e10-b993-1243c1dfd392",
   "metadata": {},
   "outputs": [],
   "source": [
    "filter_pca_density_adata = sc.read_h5ad(\n",
    "    '/home/james/data/cNMF_out/filter_pca_density_ds_cnmf/filter_pca_density_ds_cnmf_k22_dt0_05.h5ad'\n",
    "    )\n",
    "\n",
    "filter_pca_density_out_dir = '/home/james/data/cNMF_out/filter_pca_density_ds_cnmf/filter_pca_density_ds_cnmf_k22'"
   ]
  },
  {
   "cell_type": "code",
   "execution_count": 4,
   "id": "2d11620b-68a5-48b5-94a3-1dd6facb1d56",
   "metadata": {},
   "outputs": [],
   "source": [
    "cnmf_plotting_utils.plot_celltypes_umap(\n",
    "    adata = filter_pca_density_adata,\n",
    "    ncols = 6,\n",
    "    output_prefix = filter_pca_density_out_dir,\n",
    "    figsize = (20,19),\n",
    "    point_size = 0.5\n",
    "    )"
   ]
  },
  {
   "cell_type": "code",
   "execution_count": 5,
   "id": "785fb6da-bbf7-49db-82c4-e6a30859297c",
   "metadata": {},
   "outputs": [],
   "source": [
    "cnmf_plotting_utils.plot_usages_umap(\n",
    "    adata = filter_pca_density_adata,\n",
    "    output_prefix = filter_pca_density_out_dir,\n",
    "    n_cols = 6,\n",
    "    usages = 22\n",
    "    )"
   ]
  },
  {
   "cell_type": "code",
   "execution_count": 6,
   "id": "bc40eb2a-3dd8-4c4f-ae47-faca4d116373",
   "metadata": {},
   "outputs": [],
   "source": [
    "cnmf_plotting_utils.plot_spectra_scores(\n",
    "    spectra_file='/home/james/data/cNMF_out/filter_pca_density_ds_cnmf/filter_pca_density_ds_cnmf.gene_spectra_score.k_22.dt_0_05.txt',\n",
    "    output_prefix = filter_pca_density_out_dir,\n",
    "    n_genes = 25,\n",
    "    fig_rows = 5,\n",
    "    fig_cols = 5,\n",
    "    rename_dict = None,\n",
    "    fig_width= 20, \n",
    "    fig_height = 24\n",
    "    )"
   ]
  },
  {
   "cell_type": "code",
   "execution_count": null,
   "id": "be69920a-35dd-482b-ac19-74fc2eceba8c",
   "metadata": {},
   "outputs": [],
   "source": [
    "rare_pca_rename_dict = {\n",
    "    \"usage_1\":\"Enterocytes\",\n",
    "    \"usage_2\":\"Macro1\",\n",
    "    \"usage_3\":\"SM1\",\n",
    "    \"usage_4\":\"T&TMem1\",\n",
    "    \"usage_5\":\"Macro2\",\n",
    "    \"usage_6\":\"Basal1\",\n",
    "    \"usage_7\":\"Mast\",\n",
    "    \"usage_8\":\"CRC1\",\n",
    "    \"usage_9\":\"PLM\",\n",
    "    \"usage_10\":\"Fibro1\",\n",
    "    \"usage_11\":\"B&BMem\",\n",
    "    \"usage_12\":\"CRC2\",\n",
    "    \"usage_13\":\"End1\",\n",
    "    \"usage_14\":\"SM2\",\n",
    "    \"usage_15\":\"Macro3\",\n",
    "    \"usage_16\":\"Fibro2\",\n",
    "    \"usage_17\":\"Neutrophil\",\n",
    "    \"usage_18\":\"Fibro3\",\n",
    "    \"usage_19\":\"TCells2\",\n",
    "    \"usage_20\":\"Fibro4\",\n",
    "    \"usage_21\":\"Crypt\",\n",
    "    \"usage_22\":\"Goblet\"\n",
    "    }"
   ]
  },
  {
   "cell_type": "markdown",
   "id": "0df0faa2-d627-427e-8fa6-3cce27ce9612",
   "metadata": {},
   "source": [
    "## <span style=\"color:darkred\">Immune Exclusion Data: 10096 sample only</span>\n",
    "**Description:** <br> Practice performing anlysis on one sample pbefore scaling up to all samples."
   ]
  },
  {
   "cell_type": "code",
   "execution_count": 2,
   "id": "2583643a-f933-4c3c-9421-e87328d2db7d",
   "metadata": {},
   "outputs": [],
   "source": [
    "sample_10096_s1_adata = sc.read_h5ad(\n",
    "    '/home/james/data/cNMF_out/sample_10096_s1_cNMF/sample_10096_s1_cNMF_k16_dt0_05.h5ad'\n",
    "    )\n",
    "\n",
    "sample_10096_s1_out_dir = '/home/james/data/cNMF_out/sample_10096_s1_cNMF/sample_10096_s1_cNMF_k16'"
   ]
  },
  {
   "cell_type": "code",
   "execution_count": 14,
   "id": "902b7101-661b-4b3f-8031-0d16b785af32",
   "metadata": {},
   "outputs": [],
   "source": [
    "cnmf_plotting_utils.plot_celltypes_umap(\n",
    "    adata = sample_10096_s1_adata,\n",
    "    ncols = 6,\n",
    "    output_prefix = sample_10096_s1_out_dir,\n",
    "    figsize = (20,8),\n",
    "    point_size = 0.5\n",
    "    )"
   ]
  },
  {
   "cell_type": "code",
   "execution_count": 11,
   "id": "29bad067-885e-448b-909a-fb118a79a06f",
   "metadata": {},
   "outputs": [],
   "source": [
    "cnmf_plotting_utils.plot_usages_umap(\n",
    "    adata = sample_10096_s1_adata,\n",
    "    output_prefix = sample_10096_s1_out_dir,\n",
    "    n_cols = 6,\n",
    "    usages = 16,\n",
    "    figsize = (20,8)\n",
    "    )"
   ]
  },
  {
   "cell_type": "code",
   "execution_count": 15,
   "id": "2a300218-d83a-46f4-a8ac-4d466a82c673",
   "metadata": {},
   "outputs": [],
   "source": [
    "sample_10096_s1_rename_dict = {\n",
    "    \"usage_1\":\"Macro1\",\n",
    "    \"usage_2\":\"SM1\",\n",
    "    \"usage_3\":\"Mast\",\n",
    "    \"usage_4\":\"DendriticCell\",\n",
    "    \"usage_5\":\"NK\",\n",
    "    \"usage_6\":\"Fibro1\",\n",
    "    \"usage_7\":\"Bcell1\",\n",
    "    \"usage_8\":\"End1\",\n",
    "    \"usage_9\":\"Adipo\",\n",
    "    \"usage_10\":\"Basal1\",\n",
    "    \"usage_11\":\"Bcell2\",\n",
    "    \"usage_12\":\"Neutrophil\",\n",
    "    \"usage_13\":\"Fibro2\",\n",
    "    \"usage_14\":\"Basal2\",\n",
    "    \"usage_15\":\"Macro2\",\n",
    "    \"usage_16\":\"Tcell\"\n",
    "    }"
   ]
  },
  {
   "cell_type": "code",
   "execution_count": 16,
   "id": "2b5ae26f-ce9f-4edb-bb70-65fa9b084029",
   "metadata": {},
   "outputs": [],
   "source": [
    "cnmf_plotting_utils.plot_spectra_scores(\n",
    "    spectra_file='/home/james/data/cNMF_out/sample_10096_s1_cNMF/sample_10096_s1_cNMF.gene_spectra_score.k_16.dt_0_05.txt',\n",
    "    output_prefix = sample_10096_s1_out_dir,\n",
    "    n_genes = 25,\n",
    "    fig_rows = 3,\n",
    "    fig_cols = 6,\n",
    "    rename_dict = sample_10096_s1_rename_dict,\n",
    "    fig_width= 20, \n",
    "    fig_height = 15\n",
    "    )"
   ]
  },
  {
   "cell_type": "code",
   "execution_count": 17,
   "id": "997cc129-e712-48fa-9481-fc94ba262c5e",
   "metadata": {},
   "outputs": [],
   "source": [
    "cnmf_plotting_utils.plot_usages_umap(\n",
    "    adata = sample_10096_s1_adata,\n",
    "    output_prefix = sample_10096_s1_out_dir,\n",
    "    n_cols = 6,\n",
    "    usages = 16,\n",
    "    figsize = (20,8),\n",
    "    rename_dict = sample_10096_s1_rename_dict\n",
    "    )"
   ]
  },
  {
   "cell_type": "markdown",
   "id": "43eb599a-f3bc-4480-a057-04dbe294ca57",
   "metadata": {},
   "source": [
    "## <span style=\"color:darkred\">Immune Exclusion Data: each sample for loop</span>\n",
    "**Description:**"
   ]
  },
  {
   "cell_type": "code",
   "execution_count": 2,
   "id": "b68268d5-1257-48bf-afee-bdef4ce5dc0b",
   "metadata": {},
   "outputs": [],
   "source": [
    "path = '/home/james/data/cNMF_out/per_sample_cnmf/'"
   ]
  },
  {
   "cell_type": "code",
   "execution_count": 4,
   "id": "ab26389f-aa4c-4505-abbe-5e1d0fd0c92c",
   "metadata": {
    "scrolled": true
   },
   "outputs": [
    {
     "name": "stdout",
     "output_type": "stream",
     "text": [
      "Plotting for /home/james/data/cNMF_out/per_sample_cnmf/sep_10180_01_s1_sample_cNMF/\n",
      "\tPlotting cell types for /home/james/data/cNMF_out/per_sample_cnmf/sep_10180_01_s1_sample_cNMF/\n",
      "\tFound /home/james/data/cNMF_out/per_sample_cnmf/sep_10180_01_s1_sample_cNMF/sep_10180_01_s1_sample_cNMF_k17_dt0_05.h5ad\n",
      "\t\tPlotting usages\n",
      "\t\tDone plotting usgaes\n",
      "Plotting for /home/james/data/cNMF_out/per_sample_cnmf/sep_10180_01_s2_sample_cNMF/\n",
      "\tPlotting cell types for /home/james/data/cNMF_out/per_sample_cnmf/sep_10180_01_s2_sample_cNMF/\n",
      "\tFound /home/james/data/cNMF_out/per_sample_cnmf/sep_10180_01_s2_sample_cNMF/sep_10180_01_s2_sample_cNMF_k15_dt0_05.h5ad\n",
      "\t\tPlotting usages\n",
      "\t\tDone plotting usages\n",
      "\tFound /home/james/data/cNMF_out/per_sample_cnmf/sep_10180_01_s2_sample_cNMF/sep_10180_01_s2_sample_cNMF_k5_dt0_05.h5ad\n",
      "\t\tPlotting usages\n",
      "\t\tDone plotting usages\n",
      "Plotting for /home/james/data/cNMF_out/per_sample_cnmf/sep_10096_s4_sample_cNMF/\n",
      "\tPlotting cell types for /home/james/data/cNMF_out/per_sample_cnmf/sep_10096_s4_sample_cNMF/\n",
      "\tFound /home/james/data/cNMF_out/per_sample_cnmf/sep_10096_s4_sample_cNMF/sep_10096_s4_sample_cNMF_k13_dt0_05.h5ad\n",
      "\t\tPlotting usages\n",
      "\t\tDone plotting usgaes\n",
      "Plotting for /home/james/data/cNMF_out/per_sample_cnmf/sep_10284_s1_sample_cNMF/\n",
      "\tPlotting cell types for /home/james/data/cNMF_out/per_sample_cnmf/sep_10284_s1_sample_cNMF/\n",
      "\tFound /home/james/data/cNMF_out/per_sample_cnmf/sep_10284_s1_sample_cNMF/sep_10284_s1_sample_cNMF_k15_dt0_05.h5ad\n",
      "\t\tPlotting usages\n",
      "\t\tDone plotting usgaes\n",
      "Plotting for /home/james/data/cNMF_out/per_sample_cnmf/sep_10180_02_s1_sample_cNMF/\n",
      "\tPlotting cell types for /home/james/data/cNMF_out/per_sample_cnmf/sep_10180_02_s1_sample_cNMF/\n",
      "\tFound /home/james/data/cNMF_out/per_sample_cnmf/sep_10180_02_s1_sample_cNMF/sep_10180_02_s1_sample_cNMF_k19_dt0_05.h5ad\n",
      "\t\tPlotting usages\n",
      "\t\tDone plotting usages\n",
      "\tFound /home/james/data/cNMF_out/per_sample_cnmf/sep_10180_02_s1_sample_cNMF/sep_10180_02_s1_sample_cNMF_k23_dt0_05.h5ad\n",
      "\t\tPlotting usages\n",
      "\t\tDone plotting usages\n",
      "Plotting for /home/james/data/cNMF_out/per_sample_cnmf/sep_10180_01_s4_sample_cNMF/\n",
      "\tPlotting cell types for /home/james/data/cNMF_out/per_sample_cnmf/sep_10180_01_s4_sample_cNMF/\n",
      "\tFound /home/james/data/cNMF_out/per_sample_cnmf/sep_10180_01_s4_sample_cNMF/sep_10180_01_s4_sample_cNMF_k23_dt0_05.h5ad\n",
      "\t\tPlotting usages\n",
      "\t\tDone plotting usgaes\n",
      "Plotting for /home/james/data/cNMF_out/per_sample_cnmf/sep_10180_02_s2_sample_cNMF/\n",
      "\tPlotting cell types for /home/james/data/cNMF_out/per_sample_cnmf/sep_10180_02_s2_sample_cNMF/\n",
      "\tFound /home/james/data/cNMF_out/per_sample_cnmf/sep_10180_02_s2_sample_cNMF/sep_10180_02_s2_sample_cNMF_k17_dt0_05.h5ad\n",
      "\t\tPlotting usages\n",
      "\t\tDone plotting usgaes\n",
      "Plotting for /home/james/data/cNMF_out/per_sample_cnmf/sep_10284_s2_sample_cNMF/\n",
      "\tPlotting cell types for /home/james/data/cNMF_out/per_sample_cnmf/sep_10284_s2_sample_cNMF/\n",
      "\tFound /home/james/data/cNMF_out/per_sample_cnmf/sep_10284_s2_sample_cNMF/sep_10284_s2_sample_cNMF_k21_dt0_05.h5ad\n",
      "\t\tPlotting usages\n",
      "\t\tDone plotting usages\n",
      "\tFound /home/james/data/cNMF_out/per_sample_cnmf/sep_10284_s2_sample_cNMF/sep_10284_s2_sample_cNMF_k9_dt0_05.h5ad\n",
      "\t\tPlotting usages\n",
      "\t\tDone plotting usages\n",
      "Plotting for /home/james/data/cNMF_out/per_sample_cnmf/sep_10180_01_s3_sample_cNMF/\n",
      "\tPlotting cell types for /home/james/data/cNMF_out/per_sample_cnmf/sep_10180_01_s3_sample_cNMF/\n",
      "\tFound /home/james/data/cNMF_out/per_sample_cnmf/sep_10180_01_s3_sample_cNMF/sep_10180_01_s3_sample_cNMF_k15_dt0_05.h5ad\n",
      "\t\tPlotting usages\n",
      "\t\tDone plotting usages\n",
      "\tFound /home/james/data/cNMF_out/per_sample_cnmf/sep_10180_01_s3_sample_cNMF/sep_10180_01_s3_sample_cNMF_k19_dt0_05.h5ad\n",
      "\t\tPlotting usages\n",
      "\t\tDone plotting usages\n",
      "Plotting for /home/james/data/cNMF_out/per_sample_cnmf/sep_10096_s2_sample_cNMF/\n",
      "\tPlotting cell types for /home/james/data/cNMF_out/per_sample_cnmf/sep_10096_s2_sample_cNMF/\n",
      "\tFound /home/james/data/cNMF_out/per_sample_cnmf/sep_10096_s2_sample_cNMF/sep_10096_s2_sample_cNMF_k15_dt0_05.h5ad\n",
      "\t\tPlotting usages\n",
      "\t\tDone plotting usgaes\n",
      "Plotting for /home/james/data/cNMF_out/per_sample_cnmf/sep_9142_s1_sample_cNMF/\n",
      "\tPlotting cell types for /home/james/data/cNMF_out/per_sample_cnmf/sep_9142_s1_sample_cNMF/\n",
      "\tFound /home/james/data/cNMF_out/per_sample_cnmf/sep_9142_s1_sample_cNMF/sep_9142_s1_sample_cNMF_k19_dt0_05.h5ad\n",
      "\t\tPlotting usages\n",
      "\t\tDone plotting usages\n",
      "\tFound /home/james/data/cNMF_out/per_sample_cnmf/sep_9142_s1_sample_cNMF/sep_9142_s1_sample_cNMF_k11_dt0_05.h5ad\n",
      "\t\tPlotting usages\n",
      "\t\tDone plotting usages\n",
      "Plotting for /home/james/data/cNMF_out/per_sample_cnmf/sep_10180_02_s3_sample_cNMF/\n",
      "\tPlotting cell types for /home/james/data/cNMF_out/per_sample_cnmf/sep_10180_02_s3_sample_cNMF/\n",
      "\tFound /home/james/data/cNMF_out/per_sample_cnmf/sep_10180_02_s3_sample_cNMF/sep_10180_02_s3_sample_cNMF_k17_dt0_05.h5ad\n",
      "\t\tPlotting usages\n",
      "\t\tDone plotting usgaes\n",
      "Plotting for /home/james/data/cNMF_out/per_sample_cnmf/sep_10096_s3_sample_cNMF/\n",
      "\tPlotting cell types for /home/james/data/cNMF_out/per_sample_cnmf/sep_10096_s3_sample_cNMF/\n",
      "\tFound /home/james/data/cNMF_out/per_sample_cnmf/sep_10096_s3_sample_cNMF/sep_10096_s3_sample_cNMF_k15_dt0_05.h5ad\n",
      "\t\tPlotting usages\n",
      "\t\tDone plotting usages\n",
      "\tFound /home/james/data/cNMF_out/per_sample_cnmf/sep_10096_s3_sample_cNMF/sep_10096_s3_sample_cNMF_k11_dt0_05.h5ad\n",
      "\t\tPlotting usages\n",
      "\t\tDone plotting usages\n",
      "Plotting for /home/james/data/cNMF_out/per_sample_cnmf/sep_10284_s3_sample_cNMF/\n",
      "\tPlotting cell types for /home/james/data/cNMF_out/per_sample_cnmf/sep_10284_s3_sample_cNMF/\n",
      "\tFound /home/james/data/cNMF_out/per_sample_cnmf/sep_10284_s3_sample_cNMF/sep_10284_s3_sample_cNMF_k19_dt0_05.h5ad\n",
      "\t\tPlotting usages\n",
      "\t\tDone plotting usgaes\n",
      "Plotting for /home/james/data/cNMF_out/per_sample_cnmf/sep_10284_s4_sample_cNMF/\n",
      "\tPlotting cell types for /home/james/data/cNMF_out/per_sample_cnmf/sep_10284_s4_sample_cNMF/\n",
      "\tFound /home/james/data/cNMF_out/per_sample_cnmf/sep_10284_s4_sample_cNMF/sep_10284_s4_sample_cNMF_k13_dt0_05.h5ad\n",
      "\t\tPlotting usages\n",
      "\t\tDone plotting usgaes\n",
      "Plotting for /home/james/data/cNMF_out/per_sample_cnmf/sep_9142_s2_sample_cNMF/\n",
      "\tPlotting cell types for /home/james/data/cNMF_out/per_sample_cnmf/sep_9142_s2_sample_cNMF/\n",
      "\tFound /home/james/data/cNMF_out/per_sample_cnmf/sep_9142_s2_sample_cNMF/sep_9142_s2_sample_cNMF_k17_dt0_05.h5ad\n",
      "\t\tPlotting usages\n",
      "\t\tDone plotting usgaes\n",
      "Plotting for /home/james/data/cNMF_out/per_sample_cnmf/sep_10096_s1_sample_cNMF/\n",
      "\tPlotting cell types for /home/james/data/cNMF_out/per_sample_cnmf/sep_10096_s1_sample_cNMF/\n",
      "\tFound /home/james/data/cNMF_out/per_sample_cnmf/sep_10096_s1_sample_cNMF/sep_10096_s1_sample_cNMF_k15_dt0_05.h5ad\n",
      "\t\tPlotting usages\n",
      "\t\tDone plotting usgaes\n",
      "Plotting for /home/james/data/cNMF_out/per_sample_cnmf/sep_10180_02_s4_sample_cNMF/\n",
      "\tPlotting cell types for /home/james/data/cNMF_out/per_sample_cnmf/sep_10180_02_s4_sample_cNMF/\n",
      "\tFound /home/james/data/cNMF_out/per_sample_cnmf/sep_10180_02_s4_sample_cNMF/sep_10180_02_s4_sample_cNMF_k27_dt0_05.h5ad\n",
      "\t\tPlotting usages\n",
      "\t\tDone plotting usages\n",
      "\tFound /home/james/data/cNMF_out/per_sample_cnmf/sep_10180_02_s4_sample_cNMF/sep_10180_02_s4_sample_cNMF_k13_dt0_05.h5ad\n",
      "\t\tPlotting usages\n",
      "\t\tDone plotting usages\n"
     ]
    }
   ],
   "source": [
    "# for loop for creating png for all h5ad\n",
    "for i in os.listdir(path):\n",
    "    if 'cNMF'in i:\n",
    "        # Define path of directory and pull our h5ad files\n",
    "        sample_path = f'{path}{i}/'\n",
    "        h5ad_file = glob.glob(f\"{sample_path}*.h5ad\") # makes a list of all h5ad files if more than 1\n",
    "        \n",
    "        # Print starting each directory\n",
    "        print(f\"Plotting for {sample_path}\")\n",
    "        \n",
    "        # path for directories with only 1 h5ad file\n",
    "        if len(h5ad_file) == 1:\n",
    "            # reads in each sample h5ad\n",
    "            sample = sc.read_h5ad(\n",
    "                h5ad_file[0]\n",
    "                )\n",
    "            # Nameing scheme and parameter extraction from name of file\n",
    "            split = h5ad_file[0].split('_')\n",
    "            k_formal = split[-3] # k factors\n",
    "            n_usages = int(k_formal[1:]) # factors & parameter\n",
    "            sample_out_dir = f\"{path}{i}/{i}_{k_formal}\" # naming scheme\n",
    "            n_cell_type = len(sample.obs['Cell_Type'].unique()) # parameter\n",
    "\n",
    "            # Print start of plotting cell type\n",
    "            print(f\"\\tPlotting cell types for {sample_path}\")\n",
    "            cnmf_plotting_utils.plot_celltypes_umap( # plotting cell type\n",
    "                adata = sample,\n",
    "                ncols = 6, # good number of cols do not change alwasy 6\n",
    "                output_prefix = f\"{path}{i}/{i}\",\n",
    "                figsize = (20,(n_cell_type//6 * 4)),\n",
    "                point_size = 0.5\n",
    "                )\n",
    "            print(f\"\\tFound {h5ad_file[0]}\") # Print h5ad file name\n",
    "            print(f\"\\t\\tPlotting usages\") # print starting plotting\n",
    "            cnmf_plotting_utils.plot_usages_umap(\n",
    "                adata = sample,\n",
    "                output_prefix = sample_out_dir,\n",
    "                n_cols = 6, # again good dont change\n",
    "                usages = n_usages,\n",
    "                figsize = (20,(n_usages//6 * 5))\n",
    "                )\n",
    "            print(f\"\\t\\tDone plotting usgaes\") # print done\n",
    "\n",
    "        # path for directories that contain more than 1 h5ad file\n",
    "        elif len(h5ad_file) > 1:\n",
    "            # read in one sample for cell type plotting\n",
    "            sample = sc.read_h5ad(\n",
    "                h5ad_file[0]\n",
    "                )\n",
    "\n",
    "            # Nameing scheme and parameter extraction from name of file\n",
    "            split = h5ad_file[0].split('_')\n",
    "            k_formal = split[-3]\n",
    "            n_usages = int(k_formal[1:])\n",
    "            sample_out_dir = f\"{path}{i}/{i}_{k_formal}\"\n",
    "            n_cell_type = len(sample.obs['Cell_Type'].unique())\n",
    "            if n_cell_type < 6: n_cell_type = 6\n",
    "\n",
    "            # Print start of cell type plotting\n",
    "            print(f\"\\tPlotting cell types for {sample_path}\")\n",
    "            cnmf_plotting_utils.plot_celltypes_umap(\n",
    "                adata = sample,\n",
    "                ncols = 6,\n",
    "                output_prefix = f\"{path}{i}/{i}\",\n",
    "                figsize = (20,(n_cell_type//6 * 4)),\n",
    "                point_size = 0.5\n",
    "                )\n",
    "\n",
    "            # further looping to plot usages for each h5ad\n",
    "            for h5ad in range(len(h5ad_file)):\n",
    "                # read in each h5ad\n",
    "                sample = sc.read_h5ad(\n",
    "                    h5ad_file[h5ad]\n",
    "                    )\n",
    "                print(f\"\\tFound {h5ad_file[h5ad]}\") # states each file found\n",
    "\n",
    "                # Nameing scheme and parameter extraction from name of file\n",
    "                split = h5ad_file[h5ad].split('_')\n",
    "                k_formal = split[-3]\n",
    "                n_usages = int(k_formal[1:])\n",
    "                if n_usages > 6: n_usages_height = n_usages \n",
    "                else: n_usages_height = 6\n",
    "                sample_out_dir = f\"{path}{i}/{i}_{k_formal}\"\n",
    "\n",
    "                # print starting usage plotting\n",
    "                print(f\"\\t\\tPlotting usages\")\n",
    "                cnmf_plotting_utils.plot_usages_umap(\n",
    "                    adata = sample,\n",
    "                    output_prefix = sample_out_dir,\n",
    "                    n_cols = 6,\n",
    "                    usages = n_usages,\n",
    "                    figsize = (20,(n_usages_height//6 * 5))\n",
    "                    )\n",
    "                print(f\"\\t\\tDone plotting usages\") # print done\n",
    "        \n",
    "        # path used if no h5ad files are in the directory\n",
    "        elif len(h5ad_file) == 0:\n",
    "            print(f\"No .h5ad files found for {sample_path}\")"
   ]
  }
 ],
 "metadata": {
  "kernelspec": {
   "display_name": "Python 3 (ipykernel)",
   "language": "python",
   "name": "python3"
  },
  "language_info": {
   "codemirror_mode": {
    "name": "ipython",
    "version": 3
   },
   "file_extension": ".py",
   "mimetype": "text/x-python",
   "name": "python",
   "nbconvert_exporter": "python",
   "pygments_lexer": "ipython3",
   "version": "3.8.10"
  }
 },
 "nbformat": 4,
 "nbformat_minor": 5
}
